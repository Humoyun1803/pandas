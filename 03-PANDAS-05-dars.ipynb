{
 "cells": [
  {
   "cell_type": "markdown",
   "id": "805ad98a-bdf4-46c6-8e04-72e697213b40",
   "metadata": {},
   "source": [
    "![Imgur](https://i.imgur.com/5pXzCIu.png)\n",
    "\n",
    "# Data Science va Sun'iy Intellekt Praktikum\n",
    "\n",
    "## Ma'lumotlar tahlili. Pandas kutubxonasi.\n",
    "\n",
    "### 2.2.4 Statistik ma'lumotlar"
   ]
  },
  {
   "cell_type": "code",
   "execution_count": 2,
   "id": "d9af007f-219d-464f-aaf7-df22d60ffc94",
   "metadata": {},
   "outputs": [],
   "source": [
    "import pandas as pd\n",
    "import numpy as np"
   ]
  },
  {
   "cell_type": "code",
   "execution_count": 4,
   "id": "9ebe46bf-b46a-442a-897a-ebd5055fa089",
   "metadata": {},
   "outputs": [
    {
     "data": {
      "text/html": [
       "<div>\n",
       "<style scoped>\n",
       "    .dataframe tbody tr th:only-of-type {\n",
       "        vertical-align: middle;\n",
       "    }\n",
       "\n",
       "    .dataframe tbody tr th {\n",
       "        vertical-align: top;\n",
       "    }\n",
       "\n",
       "    .dataframe thead th {\n",
       "        text-align: right;\n",
       "    }\n",
       "</style>\n",
       "<table border=\"1\" class=\"dataframe\">\n",
       "  <thead>\n",
       "    <tr style=\"text-align: right;\">\n",
       "      <th></th>\n",
       "      <th>model</th>\n",
       "      <th>year</th>\n",
       "      <th>price</th>\n",
       "      <th>transmission</th>\n",
       "      <th>mileage</th>\n",
       "      <th>fuelType</th>\n",
       "      <th>tax</th>\n",
       "      <th>mpg</th>\n",
       "      <th>engineSize</th>\n",
       "    </tr>\n",
       "  </thead>\n",
       "  <tbody>\n",
       "    <tr>\n",
       "      <th>0</th>\n",
       "      <td>SLK</td>\n",
       "      <td>2005</td>\n",
       "      <td>5200</td>\n",
       "      <td>Automatic</td>\n",
       "      <td>63000</td>\n",
       "      <td>Petrol</td>\n",
       "      <td>325</td>\n",
       "      <td>32.1</td>\n",
       "      <td>1.8</td>\n",
       "    </tr>\n",
       "    <tr>\n",
       "      <th>1</th>\n",
       "      <td>S Class</td>\n",
       "      <td>2017</td>\n",
       "      <td>34948</td>\n",
       "      <td>Automatic</td>\n",
       "      <td>27000</td>\n",
       "      <td>Hybrid</td>\n",
       "      <td>20</td>\n",
       "      <td>61.4</td>\n",
       "      <td>2.1</td>\n",
       "    </tr>\n",
       "    <tr>\n",
       "      <th>2</th>\n",
       "      <td>SL CLASS</td>\n",
       "      <td>2016</td>\n",
       "      <td>49948</td>\n",
       "      <td>Automatic</td>\n",
       "      <td>6200</td>\n",
       "      <td>Petrol</td>\n",
       "      <td>555</td>\n",
       "      <td>28.0</td>\n",
       "      <td>5.5</td>\n",
       "    </tr>\n",
       "    <tr>\n",
       "      <th>3</th>\n",
       "      <td>G Class</td>\n",
       "      <td>2016</td>\n",
       "      <td>61948</td>\n",
       "      <td>Automatic</td>\n",
       "      <td>16000</td>\n",
       "      <td>Petrol</td>\n",
       "      <td>325</td>\n",
       "      <td>30.4</td>\n",
       "      <td>4.0</td>\n",
       "    </tr>\n",
       "    <tr>\n",
       "      <th>4</th>\n",
       "      <td>G Class</td>\n",
       "      <td>2016</td>\n",
       "      <td>73948</td>\n",
       "      <td>Automatic</td>\n",
       "      <td>4000</td>\n",
       "      <td>Petrol</td>\n",
       "      <td>325</td>\n",
       "      <td>30.1</td>\n",
       "      <td>4.0</td>\n",
       "    </tr>\n",
       "  </tbody>\n",
       "</table>\n",
       "</div>"
      ],
      "text/plain": [
       "       model  year  price transmission  mileage fuelType  tax   mpg  \\\n",
       "0        SLK  2005   5200    Automatic    63000   Petrol  325  32.1   \n",
       "1    S Class  2017  34948    Automatic    27000   Hybrid   20  61.4   \n",
       "2   SL CLASS  2016  49948    Automatic     6200   Petrol  555  28.0   \n",
       "3    G Class  2016  61948    Automatic    16000   Petrol  325  30.4   \n",
       "4    G Class  2016  73948    Automatic     4000   Petrol  325  30.1   \n",
       "\n",
       "   engineSize  \n",
       "0         1.8  \n",
       "1         2.1  \n",
       "2         5.5  \n",
       "3         4.0  \n",
       "4         4.0  "
      ]
     },
     "execution_count": 4,
     "metadata": {},
     "output_type": "execute_result"
    }
   ],
   "source": [
    "# Keyingi mashqlar uchun ma'lumotlarni Githubdan yuklab olamiz\n",
    "df = pd.read_csv('https://raw.githubusercontent.com/anvarnarz/praktikum_datasets/main/uzbekistan.csv', index_col=0)\n",
    "df.columns = ['maydoni','aholisi']\n",
    "df"
   ]
  },
  {
   "cell_type": "markdown",
   "id": "1bb689b2-e790-4cd3-828d-0e6044fdc3dd",
   "metadata": {},
   "source": [
    "## Summa\n",
    ".sum() funksiyasi ustun elementlarining summasini ko'rsatadi"
   ]
  },
  {
   "cell_type": "code",
   "execution_count": 29,
   "id": "b79253e0-0f4c-40a0-80ab-be778396252a",
   "metadata": {},
   "outputs": [
    {
     "data": {
      "text/plain": [
       "Maydoni (kv.km)      441900.0\n",
       "Aholisi            22945800.0\n",
       "dtype: float64"
      ]
     },
     "execution_count": 29,
     "metadata": {},
     "output_type": "execute_result"
    }
   ],
   "source": [
    "# Quyida O'zbekiston Respublikasini maydoni va aholisis sonini ko'rishimiz mumkin\n",
    "df.sum()"
   ]
  },
  {
   "cell_type": "code",
   "execution_count": 30,
   "id": "5622679b-a11d-4d6c-8562-75d4ceccab98",
   "metadata": {},
   "outputs": [
    {
     "data": {
      "text/html": [
       "<div>\n",
       "<style scoped>\n",
       "    .dataframe tbody tr th:only-of-type {\n",
       "        vertical-align: middle;\n",
       "    }\n",
       "\n",
       "    .dataframe tbody tr th {\n",
       "        vertical-align: top;\n",
       "    }\n",
       "\n",
       "    .dataframe thead th {\n",
       "        text-align: right;\n",
       "    }\n",
       "</style>\n",
       "<table border=\"1\" class=\"dataframe\">\n",
       "  <thead>\n",
       "    <tr style=\"text-align: right;\">\n",
       "      <th></th>\n",
       "      <th>2020</th>\n",
       "      <th>2021</th>\n",
       "    </tr>\n",
       "  </thead>\n",
       "  <tbody>\n",
       "    <tr>\n",
       "      <th>Labo</th>\n",
       "      <td>4521</td>\n",
       "      <td>7542</td>\n",
       "    </tr>\n",
       "    <tr>\n",
       "      <th>Damas</th>\n",
       "      <td>30889</td>\n",
       "      <td>33682</td>\n",
       "    </tr>\n",
       "    <tr>\n",
       "      <th>Spark</th>\n",
       "      <td>16370</td>\n",
       "      <td>6485</td>\n",
       "    </tr>\n",
       "    <tr>\n",
       "      <th>Nexia</th>\n",
       "      <td>41663</td>\n",
       "      <td>14442</td>\n",
       "    </tr>\n",
       "    <tr>\n",
       "      <th>Cobalt</th>\n",
       "      <td>44901</td>\n",
       "      <td>36317</td>\n",
       "    </tr>\n",
       "  </tbody>\n",
       "</table>\n",
       "</div>"
      ],
      "text/plain": [
       "         2020   2021\n",
       "Labo     4521   7542\n",
       "Damas   30889  33682\n",
       "Spark   16370   6485\n",
       "Nexia   41663  14442\n",
       "Cobalt  44901  36317"
      ]
     },
     "execution_count": 30,
     "metadata": {},
     "output_type": "execute_result"
    }
   ],
   "source": [
    "df2 = pd.read_csv(\"https://raw.githubusercontent.com/anvarnarz/praktikum_datasets/main/gm_sales.csv\", index_col=0)\n",
    "df2.head()"
   ]
  },
  {
   "cell_type": "code",
   "execution_count": 31,
   "id": "93bf9370-df34-476a-8d78-c9ad766f2433",
   "metadata": {},
   "outputs": [
    {
     "data": {
      "text/plain": [
       "2020    168712\n",
       "2021    124734\n",
       "dtype: int64"
      ]
     },
     "execution_count": 31,
     "metadata": {},
     "output_type": "execute_result"
    }
   ],
   "source": [
    "# Quyida esa 2020 va 2021 yilda GM Uzbekistan tomonidan jami sotilgan moshinalar sonini ko'rishimiz mumkin\n",
    "df2.sum()"
   ]
  },
  {
   "cell_type": "markdown",
   "id": "dfa33449-afb4-443b-8ff9-2c1a97df658a",
   "metadata": {},
   "source": [
    "Agar summani ustunlar bo'yicha amalga oshirish talab qilinsa `axis=1` parametridan foydalanamiz.\n",
    "Demak, 2 yil davomida GMning turli modellari nechtadan sotilganini ko'rish uchun quyidagi kodni yozamiz"
   ]
  },
  {
   "cell_type": "code",
   "execution_count": 32,
   "id": "0b5c2f0c-f250-47c5-b12e-a153eeb86666",
   "metadata": {},
   "outputs": [
    {
     "data": {
      "text/plain": [
       "Labo      12063\n",
       "Damas     64571\n",
       "Spark     22855\n",
       "Nexia     56105\n",
       "Cobalt    81218\n",
       "Gentra    56634\n",
       "dtype: int64"
      ]
     },
     "execution_count": 32,
     "metadata": {},
     "output_type": "execute_result"
    }
   ],
   "source": [
    "df2.sum(axis=1) # yoki axis='columns'"
   ]
  },
  {
   "cell_type": "markdown",
   "id": "502d9675-c577-4bbf-b9ac-ea6072fdf299",
   "metadata": {},
   "source": [
    "### .mean() -  o'rta qiymatni hisoblash"
   ]
  },
  {
   "cell_type": "code",
   "execution_count": 36,
   "id": "ed065905-bd09-4dec-9b62-c921ceb7f735",
   "metadata": {},
   "outputs": [
    {
     "data": {
      "text/plain": [
       "Labo       6031.5\n",
       "Damas     32285.5\n",
       "Spark     11427.5\n",
       "Nexia     28052.5\n",
       "Cobalt    40609.0\n",
       "Gentra    28317.0\n",
       "dtype: float64"
      ]
     },
     "execution_count": 36,
     "metadata": {},
     "output_type": "execute_result"
    }
   ],
   "source": [
    "df2.mean(axis=1)"
   ]
  },
  {
   "cell_type": "markdown",
   "id": "bd84ca15-1d15-431a-a44f-aa3853d79694",
   "metadata": {},
   "source": [
    "### min va maximum qiymatlarning indeksini topish"
   ]
  },
  {
   "cell_type": "code",
   "execution_count": 41,
   "id": "d00d4216-70ba-4e2a-a227-a22df5d2a51e",
   "metadata": {},
   "outputs": [
    {
     "data": {
      "text/html": [
       "<div>\n",
       "<style scoped>\n",
       "    .dataframe tbody tr th:only-of-type {\n",
       "        vertical-align: middle;\n",
       "    }\n",
       "\n",
       "    .dataframe tbody tr th {\n",
       "        vertical-align: top;\n",
       "    }\n",
       "\n",
       "    .dataframe thead th {\n",
       "        text-align: right;\n",
       "    }\n",
       "</style>\n",
       "<table border=\"1\" class=\"dataframe\">\n",
       "  <thead>\n",
       "    <tr style=\"text-align: right;\">\n",
       "      <th></th>\n",
       "      <th>Maydoni (kv.km)</th>\n",
       "      <th>Aholisi</th>\n",
       "    </tr>\n",
       "    <tr>\n",
       "      <th>Boʻlinishi</th>\n",
       "      <th></th>\n",
       "      <th></th>\n",
       "    </tr>\n",
       "  </thead>\n",
       "  <tbody>\n",
       "    <tr>\n",
       "      <th>Andijon viloyati</th>\n",
       "      <td>4200.0</td>\n",
       "      <td>1899000.0</td>\n",
       "    </tr>\n",
       "    <tr>\n",
       "      <th>Buxoro viloyati</th>\n",
       "      <td>39400.0</td>\n",
       "      <td>1384700.0</td>\n",
       "    </tr>\n",
       "    <tr>\n",
       "      <th>Fargʻona viloyati</th>\n",
       "      <td>6800.0</td>\n",
       "      <td>2597000.0</td>\n",
       "    </tr>\n",
       "    <tr>\n",
       "      <th>Jizzax viloyati</th>\n",
       "      <td>20500.0</td>\n",
       "      <td>910500.0</td>\n",
       "    </tr>\n",
       "    <tr>\n",
       "      <th>Xorazm viloyati</th>\n",
       "      <td>6300.0</td>\n",
       "      <td>1200000.0</td>\n",
       "    </tr>\n",
       "    <tr>\n",
       "      <th>Namangan viloyati</th>\n",
       "      <td>7900.0</td>\n",
       "      <td>1862000.0</td>\n",
       "    </tr>\n",
       "    <tr>\n",
       "      <th>Navoiy viloyati</th>\n",
       "      <td>110800.0</td>\n",
       "      <td>767500.0</td>\n",
       "    </tr>\n",
       "    <tr>\n",
       "      <th>Qashqadaryo viloyati</th>\n",
       "      <td>28400.0</td>\n",
       "      <td>2029000.0</td>\n",
       "    </tr>\n",
       "    <tr>\n",
       "      <th>Qoraqalpogʻiston Respublikasi</th>\n",
       "      <td>160000.0</td>\n",
       "      <td>1200000.0</td>\n",
       "    </tr>\n",
       "    <tr>\n",
       "      <th>Samarqand viloyati</th>\n",
       "      <td>16400.0</td>\n",
       "      <td>2322000.0</td>\n",
       "    </tr>\n",
       "    <tr>\n",
       "      <th>Sirdaryo viloyati</th>\n",
       "      <td>5100.0</td>\n",
       "      <td>648100.0</td>\n",
       "    </tr>\n",
       "    <tr>\n",
       "      <th>Surxondaryo viloyati</th>\n",
       "      <td>20800.0</td>\n",
       "      <td>1676000.0</td>\n",
       "    </tr>\n",
       "    <tr>\n",
       "      <th>Toshkent viloyati</th>\n",
       "      <td>15300.0</td>\n",
       "      <td>4450000.0</td>\n",
       "    </tr>\n",
       "  </tbody>\n",
       "</table>\n",
       "</div>"
      ],
      "text/plain": [
       "                               Maydoni (kv.km)    Aholisi\n",
       "Boʻlinishi                                               \n",
       "Andijon viloyati                        4200.0  1899000.0\n",
       "Buxoro viloyati                        39400.0  1384700.0\n",
       "Fargʻona viloyati                       6800.0  2597000.0\n",
       "Jizzax viloyati                        20500.0   910500.0\n",
       "Xorazm viloyati                         6300.0  1200000.0\n",
       "Namangan viloyati                       7900.0  1862000.0\n",
       "Navoiy viloyati                       110800.0   767500.0\n",
       "Qashqadaryo viloyati                   28400.0  2029000.0\n",
       "Qoraqalpogʻiston Respublikasi         160000.0  1200000.0\n",
       "Samarqand viloyati                     16400.0  2322000.0\n",
       "Sirdaryo viloyati                       5100.0   648100.0\n",
       "Surxondaryo viloyati                   20800.0  1676000.0\n",
       "Toshkent viloyati                      15300.0  4450000.0"
      ]
     },
     "execution_count": 41,
     "metadata": {},
     "output_type": "execute_result"
    }
   ],
   "source": [
    "df"
   ]
  },
  {
   "cell_type": "code",
   "execution_count": 44,
   "id": "924309be-5239-49f4-ad2e-9d864ec39f2a",
   "metadata": {},
   "outputs": [
    {
     "data": {
      "text/plain": [
       "Maydoni (kv.km)     Andijon viloyati\n",
       "Aholisi            Sirdaryo viloyati\n",
       "dtype: object"
      ]
     },
     "execution_count": 44,
     "metadata": {},
     "output_type": "execute_result"
    }
   ],
   "source": [
    "df.idxmin()"
   ]
  },
  {
   "cell_type": "code",
   "execution_count": 45,
   "id": "bd0ff6bf-96d7-4b4f-b20c-26312b8b88f5",
   "metadata": {},
   "outputs": [
    {
     "data": {
      "text/plain": [
       "Maydoni (kv.km)    Qoraqalpogʻiston Respublikasi\n",
       "Aholisi                        Toshkent viloyati\n",
       "dtype: object"
      ]
     },
     "execution_count": 45,
     "metadata": {},
     "output_type": "execute_result"
    }
   ],
   "source": [
    "df.idxmax()"
   ]
  },
  {
   "cell_type": "code",
   "execution_count": 95,
   "id": "2ee3875e-6fe7-4b47-806b-fc3f0c474660",
   "metadata": {},
   "outputs": [
    {
     "data": {
      "text/plain": [
       "8"
      ]
     },
     "execution_count": 95,
     "metadata": {},
     "output_type": "execute_result"
    }
   ],
   "source": [
    "df['maydoni'].argmax()"
   ]
  },
  {
   "cell_type": "code",
   "execution_count": 96,
   "id": "bc26320d-a06e-446b-bf0b-0aab845ff710",
   "metadata": {},
   "outputs": [
    {
     "data": {
      "text/plain": [
       "10"
      ]
     },
     "execution_count": 96,
     "metadata": {},
     "output_type": "execute_result"
    }
   ],
   "source": [
    "df['aholisi'].argmin()"
   ]
  },
  {
   "cell_type": "code",
   "execution_count": 97,
   "id": "900c0aa8-2fa0-42ff-ad86-9eeeffa71838",
   "metadata": {},
   "outputs": [
    {
     "data": {
      "text/html": [
       "<div>\n",
       "<style scoped>\n",
       "    .dataframe tbody tr th:only-of-type {\n",
       "        vertical-align: middle;\n",
       "    }\n",
       "\n",
       "    .dataframe tbody tr th {\n",
       "        vertical-align: top;\n",
       "    }\n",
       "\n",
       "    .dataframe thead th {\n",
       "        text-align: right;\n",
       "    }\n",
       "</style>\n",
       "<table border=\"1\" class=\"dataframe\">\n",
       "  <thead>\n",
       "    <tr style=\"text-align: right;\">\n",
       "      <th></th>\n",
       "      <th>2020</th>\n",
       "      <th>2021</th>\n",
       "    </tr>\n",
       "  </thead>\n",
       "  <tbody>\n",
       "    <tr>\n",
       "      <th>Labo</th>\n",
       "      <td>4521</td>\n",
       "      <td>7542</td>\n",
       "    </tr>\n",
       "    <tr>\n",
       "      <th>Damas</th>\n",
       "      <td>30889</td>\n",
       "      <td>33682</td>\n",
       "    </tr>\n",
       "    <tr>\n",
       "      <th>Spark</th>\n",
       "      <td>16370</td>\n",
       "      <td>6485</td>\n",
       "    </tr>\n",
       "    <tr>\n",
       "      <th>Nexia</th>\n",
       "      <td>41663</td>\n",
       "      <td>14442</td>\n",
       "    </tr>\n",
       "    <tr>\n",
       "      <th>Cobalt</th>\n",
       "      <td>44901</td>\n",
       "      <td>36317</td>\n",
       "    </tr>\n",
       "    <tr>\n",
       "      <th>Gentra</th>\n",
       "      <td>30368</td>\n",
       "      <td>26266</td>\n",
       "    </tr>\n",
       "  </tbody>\n",
       "</table>\n",
       "</div>"
      ],
      "text/plain": [
       "         2020   2021\n",
       "Labo     4521   7542\n",
       "Damas   30889  33682\n",
       "Spark   16370   6485\n",
       "Nexia   41663  14442\n",
       "Cobalt  44901  36317\n",
       "Gentra  30368  26266"
      ]
     },
     "execution_count": 97,
     "metadata": {},
     "output_type": "execute_result"
    }
   ],
   "source": [
    "df2"
   ]
  },
  {
   "cell_type": "code",
   "execution_count": 72,
   "id": "9afdaa20-6053-4cb7-9ef8-84fe2b2f5c13",
   "metadata": {},
   "outputs": [
    {
     "data": {
      "text/plain": [
       "2020     Labo\n",
       "2021    Spark\n",
       "dtype: object"
      ]
     },
     "execution_count": 72,
     "metadata": {},
     "output_type": "execute_result"
    }
   ],
   "source": [
    "df2.idxmin()"
   ]
  },
  {
   "cell_type": "code",
   "execution_count": 49,
   "id": "76e59a85-ed47-4dc4-b1f8-e1fc5a81839f",
   "metadata": {},
   "outputs": [
    {
     "data": {
      "text/plain": [
       "2020    Cobalt\n",
       "2021    Cobalt\n",
       "dtype: object"
      ]
     },
     "execution_count": 49,
     "metadata": {},
     "output_type": "execute_result"
    }
   ],
   "source": [
    "df2.idxmax()"
   ]
  },
  {
   "cell_type": "code",
   "execution_count": 88,
   "id": "a972a8bf-9b96-4951-b107-c371e7151be2",
   "metadata": {},
   "outputs": [
    {
     "name": "stdout",
     "output_type": "stream",
     "text": [
      "Toshkent viloyati aholisi 4450000.0\n",
      "4450000.0\n"
     ]
    }
   ],
   "source": [
    "print(df['aholisi'].idxmax(), 'aholisi', df['aholisi'].max())"
   ]
  },
  {
   "cell_type": "code",
   "execution_count": 89,
   "id": "21a00179-1d39-438a-b358-2e12ae4332ca",
   "metadata": {},
   "outputs": [
    {
     "name": "stdout",
     "output_type": "stream",
     "text": [
      "Qoraqalpogʻiston Respublikasi\n",
      "160000.0\n"
     ]
    }
   ],
   "source": [
    "print(df['maydoni'].idxmax())\n",
    "print(df['maydoni'].max())"
   ]
  },
  {
   "cell_type": "markdown",
   "id": "8eb6efd2-23b5-4349-b2c6-e5c507a6ae13",
   "metadata": {},
   "source": [
    "## Boshqa funksiyalar\n",
    "\n",
    "`count` - NaN bo'lmagan qiymatlar soni\n",
    "\n",
    "`median` - qiymatlar medianini hisbolash\n",
    "\n",
    "`mad` - mean absolute deviation \n",
    "\n",
    "`prod` - barcha qiymatlar ko'paytmasi\n",
    "\n",
    "`var` - variance (dispersiya)\n",
    "\n",
    "`std` - standart deviation (standart chetlanis)\n",
    "\n",
    "`skew` - skewness\n",
    "\n",
    "`kurt` - kurtosis\n",
    "\n",
    "`cumsum` - cumulative sum\n",
    "\n",
    "`cummin` va `cummax`- cumulative min and max\n",
    "\n",
    "`cumprod` - cumulative product\n",
    "\n",
    "`diff` - arifmetik farq (difference)\n",
    "\n",
    "`pct_change` - percent changes"
   ]
  },
  {
   "cell_type": "code",
   "execution_count": null,
   "id": "b774fb1c-3ea0-4872-b07e-5030962140b0",
   "metadata": {},
   "outputs": [],
   "source": []
  }
 ],
 "metadata": {
  "kernelspec": {
   "display_name": "Python 3",
   "language": "python",
   "name": "python3"
  },
  "language_info": {
   "codemirror_mode": {
    "name": "ipython",
    "version": 3
   },
   "file_extension": ".py",
   "mimetype": "text/x-python",
   "name": "python",
   "nbconvert_exporter": "python",
   "pygments_lexer": "ipython3",
   "version": "3.8.8"
  }
 },
 "nbformat": 4,
 "nbformat_minor": 5
}
