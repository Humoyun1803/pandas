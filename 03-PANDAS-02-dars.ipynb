{
 "cells": [
  {
   "cell_type": "markdown",
   "id": "649317d2-e18a-4e47-ac06-5132aac537b5",
   "metadata": {},
   "source": [
    "![Imgur](https://i.imgur.com/5pXzCIu.png)\n",
    "\n",
    "# Data Science va Sun'iy Intellekt Praktikum\n",
    "\n",
    "## Ma'lumotlar tahlili. Pandas kutubxonasi.\n",
    "\n",
    "### 2.2.2 `DataFrame` ma'lumotlar tuzilmasi"
   ]
  },
  {
   "cell_type": "markdown",
   "id": "2d19e073-e4bd-45d9-a5d1-a147f4e64851",
   "metadata": {},
   "source": [
    "`DataFrame` tartibli ustunlardan iborat, ikki o'lchovli (jadval ko'rinishidadi) ma'lumotlar tuzilmasi. Har bir ustun bir turdagi ma'lumotlarni saqlaydi (sonlar, matnlar, Boolean va hokazo). `DataFrame` ustunlari ham qatorlari ham indekslangan bo'ladi. Umuman olganda `DataFrame`ni bir nechta `Series`dan iboirat lug'atlar deb tasavvur qilishimiz mumkin."
   ]
  },
  {
   "cell_type": "code",
   "execution_count": 2,
   "id": "5ed2cacd-8b0e-4c3e-8666-bc2d3ac44eb2",
   "metadata": {},
   "outputs": [],
   "source": [
    "import pandas as pd\n",
    "import numpy as np\n",
    "from pandas import DataFrame"
   ]
  },
  {
   "cell_type": "markdown",
   "id": "5ff214d6-b504-439f-b113-27d1a16dbad9",
   "metadata": {},
   "source": [
    "`DataFrame` yaratishning bir nechta usuli bor va bulardan eng osoni qiymatlari bir hil uzunlikdagi ro'yxatdan iborat lug'at orqali yaratish."
   ]
  },
  {
   "cell_type": "code",
   "execution_count": 20,
   "id": "181cc8c1-1a44-4cb3-aeae-76ce4efdd2c5",
   "metadata": {},
   "outputs": [],
   "source": [
    "data = {'Yil':[2021, 2020, 2019, 2018, 2017, 2016, 2015, 2010],\n",
    "       'Aholi soni':[33.9, 33.5, 32.9, 32.5, 31.9, 31.4, 30.9, 28.5],\n",
    "       \"Temp\":[1.54, 1.48, 1.56, 1.62, 1.65, 1.66, 1.64, 1.53]}\n",
    "df = DataFrame(data)"
   ]
  },
  {
   "cell_type": "code",
   "execution_count": 21,
   "id": "2a40247d-57c8-455b-a16b-256d284280b7",
   "metadata": {},
   "outputs": [
    {
     "data": {
      "text/html": [
       "<div>\n",
       "<style scoped>\n",
       "    .dataframe tbody tr th:only-of-type {\n",
       "        vertical-align: middle;\n",
       "    }\n",
       "\n",
       "    .dataframe tbody tr th {\n",
       "        vertical-align: top;\n",
       "    }\n",
       "\n",
       "    .dataframe thead th {\n",
       "        text-align: right;\n",
       "    }\n",
       "</style>\n",
       "<table border=\"1\" class=\"dataframe\">\n",
       "  <thead>\n",
       "    <tr style=\"text-align: right;\">\n",
       "      <th></th>\n",
       "      <th>Yil</th>\n",
       "      <th>Aholi soni</th>\n",
       "      <th>Temp</th>\n",
       "    </tr>\n",
       "  </thead>\n",
       "  <tbody>\n",
       "    <tr>\n",
       "      <th>0</th>\n",
       "      <td>2021</td>\n",
       "      <td>33.9</td>\n",
       "      <td>1.54</td>\n",
       "    </tr>\n",
       "    <tr>\n",
       "      <th>1</th>\n",
       "      <td>2020</td>\n",
       "      <td>33.5</td>\n",
       "      <td>1.48</td>\n",
       "    </tr>\n",
       "    <tr>\n",
       "      <th>2</th>\n",
       "      <td>2019</td>\n",
       "      <td>32.9</td>\n",
       "      <td>1.56</td>\n",
       "    </tr>\n",
       "    <tr>\n",
       "      <th>3</th>\n",
       "      <td>2018</td>\n",
       "      <td>32.5</td>\n",
       "      <td>1.62</td>\n",
       "    </tr>\n",
       "    <tr>\n",
       "      <th>4</th>\n",
       "      <td>2017</td>\n",
       "      <td>31.9</td>\n",
       "      <td>1.65</td>\n",
       "    </tr>\n",
       "    <tr>\n",
       "      <th>5</th>\n",
       "      <td>2016</td>\n",
       "      <td>31.4</td>\n",
       "      <td>1.66</td>\n",
       "    </tr>\n",
       "    <tr>\n",
       "      <th>6</th>\n",
       "      <td>2015</td>\n",
       "      <td>30.9</td>\n",
       "      <td>1.64</td>\n",
       "    </tr>\n",
       "    <tr>\n",
       "      <th>7</th>\n",
       "      <td>2010</td>\n",
       "      <td>28.5</td>\n",
       "      <td>1.53</td>\n",
       "    </tr>\n",
       "  </tbody>\n",
       "</table>\n",
       "</div>"
      ],
      "text/plain": [
       "    Yil  Aholi soni  Temp\n",
       "0  2021        33.9  1.54\n",
       "1  2020        33.5  1.48\n",
       "2  2019        32.9  1.56\n",
       "3  2018        32.5  1.62\n",
       "4  2017        31.9  1.65\n",
       "5  2016        31.4  1.66\n",
       "6  2015        30.9  1.64\n",
       "7  2010        28.5  1.53"
      ]
     },
     "execution_count": 21,
     "metadata": {},
     "output_type": "execute_result"
    }
   ],
   "source": [
    "df"
   ]
  },
  {
   "cell_type": "markdown",
   "id": "77ac132f-c5f7-45d4-9bef-416d58f04ba7",
   "metadata": {},
   "source": [
    "Odatda katta `DataFrame`lar bilan ishlashda `.head()` metodi yordamida jadvalning boshidan 5 ta qator ko'rishimiz mumkin."
   ]
  },
  {
   "cell_type": "code",
   "execution_count": 22,
   "id": "fac782f1-9c84-4e49-baba-0c516142ecda",
   "metadata": {},
   "outputs": [
    {
     "data": {
      "text/html": [
       "<div>\n",
       "<style scoped>\n",
       "    .dataframe tbody tr th:only-of-type {\n",
       "        vertical-align: middle;\n",
       "    }\n",
       "\n",
       "    .dataframe tbody tr th {\n",
       "        vertical-align: top;\n",
       "    }\n",
       "\n",
       "    .dataframe thead th {\n",
       "        text-align: right;\n",
       "    }\n",
       "</style>\n",
       "<table border=\"1\" class=\"dataframe\">\n",
       "  <thead>\n",
       "    <tr style=\"text-align: right;\">\n",
       "      <th></th>\n",
       "      <th>Yil</th>\n",
       "      <th>Aholi soni</th>\n",
       "      <th>Temp</th>\n",
       "    </tr>\n",
       "  </thead>\n",
       "  <tbody>\n",
       "    <tr>\n",
       "      <th>0</th>\n",
       "      <td>2021</td>\n",
       "      <td>33.9</td>\n",
       "      <td>1.54</td>\n",
       "    </tr>\n",
       "    <tr>\n",
       "      <th>1</th>\n",
       "      <td>2020</td>\n",
       "      <td>33.5</td>\n",
       "      <td>1.48</td>\n",
       "    </tr>\n",
       "    <tr>\n",
       "      <th>2</th>\n",
       "      <td>2019</td>\n",
       "      <td>32.9</td>\n",
       "      <td>1.56</td>\n",
       "    </tr>\n",
       "    <tr>\n",
       "      <th>3</th>\n",
       "      <td>2018</td>\n",
       "      <td>32.5</td>\n",
       "      <td>1.62</td>\n",
       "    </tr>\n",
       "    <tr>\n",
       "      <th>4</th>\n",
       "      <td>2017</td>\n",
       "      <td>31.9</td>\n",
       "      <td>1.65</td>\n",
       "    </tr>\n",
       "  </tbody>\n",
       "</table>\n",
       "</div>"
      ],
      "text/plain": [
       "    Yil  Aholi soni  Temp\n",
       "0  2021        33.9  1.54\n",
       "1  2020        33.5  1.48\n",
       "2  2019        32.9  1.56\n",
       "3  2018        32.5  1.62\n",
       "4  2017        31.9  1.65"
      ]
     },
     "execution_count": 22,
     "metadata": {},
     "output_type": "execute_result"
    }
   ],
   "source": [
    "df.head()"
   ]
  },
  {
   "cell_type": "markdown",
   "id": "099f87be-3923-46a2-9791-f4af0a3350fa",
   "metadata": {},
   "source": [
    "Lug'atdan `DataFrame` yaratishda har bir qator indekslanadi (`0,1,2...`), ustunlar ketma-ketligi esa lug'atdagi ketma-ketlikka bog'liq bo'ladi. Ustunlar ketma-ketligini berishni istasak `DataFrame` yaratishda `columns` parametrini ham ko'rsatib ketishimiz mumkin: "
   ]
  },
  {
   "cell_type": "code",
   "execution_count": 23,
   "id": "90ab657f-5cfd-4d41-8d5c-1b3bc33bf59b",
   "metadata": {},
   "outputs": [],
   "source": [
    "df = DataFrame(data, columns=['Yil','Temp','Aholi soni'])"
   ]
  },
  {
   "cell_type": "markdown",
   "id": "e753557d-e03b-4f5a-823e-2b5894fb0927",
   "metadata": {},
   "source": [
    "Agar `columns` ro'yxarida lug'atda mavjud bo'lmagan ustin bo'lsa, shu ustunga bo'sh qiymatlar qo'yib ketiladi."
   ]
  },
  {
   "cell_type": "code",
   "execution_count": 24,
   "id": "44ea645f-492b-4010-81d8-bffc5c62b19c",
   "metadata": {},
   "outputs": [],
   "source": [
    "df = DataFrame(data, columns=['Yil','Temp','Aholi soni','YAIM'])"
   ]
  },
  {
   "cell_type": "code",
   "execution_count": 25,
   "id": "f56b1926-f36f-4aa2-950d-dcff477d58ab",
   "metadata": {},
   "outputs": [
    {
     "data": {
      "text/html": [
       "<div>\n",
       "<style scoped>\n",
       "    .dataframe tbody tr th:only-of-type {\n",
       "        vertical-align: middle;\n",
       "    }\n",
       "\n",
       "    .dataframe tbody tr th {\n",
       "        vertical-align: top;\n",
       "    }\n",
       "\n",
       "    .dataframe thead th {\n",
       "        text-align: right;\n",
       "    }\n",
       "</style>\n",
       "<table border=\"1\" class=\"dataframe\">\n",
       "  <thead>\n",
       "    <tr style=\"text-align: right;\">\n",
       "      <th></th>\n",
       "      <th>Yil</th>\n",
       "      <th>Temp</th>\n",
       "      <th>Aholi soni</th>\n",
       "      <th>YAIM</th>\n",
       "    </tr>\n",
       "  </thead>\n",
       "  <tbody>\n",
       "    <tr>\n",
       "      <th>0</th>\n",
       "      <td>2021</td>\n",
       "      <td>1.54</td>\n",
       "      <td>33.9</td>\n",
       "      <td>NaN</td>\n",
       "    </tr>\n",
       "    <tr>\n",
       "      <th>1</th>\n",
       "      <td>2020</td>\n",
       "      <td>1.48</td>\n",
       "      <td>33.5</td>\n",
       "      <td>NaN</td>\n",
       "    </tr>\n",
       "    <tr>\n",
       "      <th>2</th>\n",
       "      <td>2019</td>\n",
       "      <td>1.56</td>\n",
       "      <td>32.9</td>\n",
       "      <td>NaN</td>\n",
       "    </tr>\n",
       "    <tr>\n",
       "      <th>3</th>\n",
       "      <td>2018</td>\n",
       "      <td>1.62</td>\n",
       "      <td>32.5</td>\n",
       "      <td>NaN</td>\n",
       "    </tr>\n",
       "    <tr>\n",
       "      <th>4</th>\n",
       "      <td>2017</td>\n",
       "      <td>1.65</td>\n",
       "      <td>31.9</td>\n",
       "      <td>NaN</td>\n",
       "    </tr>\n",
       "  </tbody>\n",
       "</table>\n",
       "</div>"
      ],
      "text/plain": [
       "    Yil  Temp  Aholi soni YAIM\n",
       "0  2021  1.54        33.9  NaN\n",
       "1  2020  1.48        33.5  NaN\n",
       "2  2019  1.56        32.9  NaN\n",
       "3  2018  1.62        32.5  NaN\n",
       "4  2017  1.65        31.9  NaN"
      ]
     },
     "execution_count": 25,
     "metadata": {},
     "output_type": "execute_result"
    }
   ],
   "source": [
    "df.head()"
   ]
  },
  {
   "cell_type": "markdown",
   "id": "bca3568e-c2aa-4218-8dc8-2b5a8a4c1933",
   "metadata": {},
   "source": [
    "Huddi `Series` kabi `DataFrame` indekslariga ham o'zimiz qiymat berishimiz mumkin:"
   ]
  },
  {
   "cell_type": "code",
   "execution_count": 26,
   "id": "16ec308b-f4e5-479f-b92b-4982a47b70b1",
   "metadata": {},
   "outputs": [],
   "source": [
    "df = DataFrame(data, columns=['Yil','Temp','Aholi soni','YAIM'], index=[21, 20, 19, 18, 17, 16, 15, 10])"
   ]
  },
  {
   "cell_type": "code",
   "execution_count": 27,
   "id": "7656bf2f-e3bd-46c3-8e33-4d0854e3b362",
   "metadata": {},
   "outputs": [
    {
     "data": {
      "text/html": [
       "<div>\n",
       "<style scoped>\n",
       "    .dataframe tbody tr th:only-of-type {\n",
       "        vertical-align: middle;\n",
       "    }\n",
       "\n",
       "    .dataframe tbody tr th {\n",
       "        vertical-align: top;\n",
       "    }\n",
       "\n",
       "    .dataframe thead th {\n",
       "        text-align: right;\n",
       "    }\n",
       "</style>\n",
       "<table border=\"1\" class=\"dataframe\">\n",
       "  <thead>\n",
       "    <tr style=\"text-align: right;\">\n",
       "      <th></th>\n",
       "      <th>Yil</th>\n",
       "      <th>Temp</th>\n",
       "      <th>Aholi soni</th>\n",
       "      <th>YAIM</th>\n",
       "    </tr>\n",
       "  </thead>\n",
       "  <tbody>\n",
       "    <tr>\n",
       "      <th>21</th>\n",
       "      <td>2021</td>\n",
       "      <td>1.54</td>\n",
       "      <td>33.9</td>\n",
       "      <td>NaN</td>\n",
       "    </tr>\n",
       "    <tr>\n",
       "      <th>20</th>\n",
       "      <td>2020</td>\n",
       "      <td>1.48</td>\n",
       "      <td>33.5</td>\n",
       "      <td>NaN</td>\n",
       "    </tr>\n",
       "    <tr>\n",
       "      <th>19</th>\n",
       "      <td>2019</td>\n",
       "      <td>1.56</td>\n",
       "      <td>32.9</td>\n",
       "      <td>NaN</td>\n",
       "    </tr>\n",
       "    <tr>\n",
       "      <th>18</th>\n",
       "      <td>2018</td>\n",
       "      <td>1.62</td>\n",
       "      <td>32.5</td>\n",
       "      <td>NaN</td>\n",
       "    </tr>\n",
       "    <tr>\n",
       "      <th>17</th>\n",
       "      <td>2017</td>\n",
       "      <td>1.65</td>\n",
       "      <td>31.9</td>\n",
       "      <td>NaN</td>\n",
       "    </tr>\n",
       "    <tr>\n",
       "      <th>16</th>\n",
       "      <td>2016</td>\n",
       "      <td>1.66</td>\n",
       "      <td>31.4</td>\n",
       "      <td>NaN</td>\n",
       "    </tr>\n",
       "    <tr>\n",
       "      <th>15</th>\n",
       "      <td>2015</td>\n",
       "      <td>1.64</td>\n",
       "      <td>30.9</td>\n",
       "      <td>NaN</td>\n",
       "    </tr>\n",
       "    <tr>\n",
       "      <th>10</th>\n",
       "      <td>2010</td>\n",
       "      <td>1.53</td>\n",
       "      <td>28.5</td>\n",
       "      <td>NaN</td>\n",
       "    </tr>\n",
       "  </tbody>\n",
       "</table>\n",
       "</div>"
      ],
      "text/plain": [
       "     Yil  Temp  Aholi soni YAIM\n",
       "21  2021  1.54        33.9  NaN\n",
       "20  2020  1.48        33.5  NaN\n",
       "19  2019  1.56        32.9  NaN\n",
       "18  2018  1.62        32.5  NaN\n",
       "17  2017  1.65        31.9  NaN\n",
       "16  2016  1.66        31.4  NaN\n",
       "15  2015  1.64        30.9  NaN\n",
       "10  2010  1.53        28.5  NaN"
      ]
     },
     "execution_count": 27,
     "metadata": {},
     "output_type": "execute_result"
    }
   ],
   "source": [
    "df"
   ]
  },
  {
   "cell_type": "markdown",
   "id": "5b187880-284d-4f03-b73f-d01f21e83a82",
   "metadata": {},
   "source": [
    "`DataFrame`ning istalgan ustunini `Series` ko'rinishida ajratib olishimiz mumkin. Buning ikki usuli bor:\n",
    "1. Ustun nomi attribut sifatida"
   ]
  },
  {
   "cell_type": "code",
   "execution_count": 28,
   "id": "35c39c3a-6b36-44a6-a21e-f91b37041365",
   "metadata": {},
   "outputs": [
    {
     "data": {
      "text/plain": [
       "21    1.54\n",
       "20    1.48\n",
       "19    1.56\n",
       "18    1.62\n",
       "17    1.65\n",
       "16    1.66\n",
       "15    1.64\n",
       "10    1.53\n",
       "Name: Temp, dtype: float64"
      ]
     },
     "execution_count": 28,
     "metadata": {},
     "output_type": "execute_result"
    }
   ],
   "source": [
    "df.Temp"
   ]
  },
  {
   "cell_type": "markdown",
   "id": "b410509a-5b61-4d2b-8a5f-84a83108a987",
   "metadata": {},
   "source": [
    "2. Lug'at kabi ajratish"
   ]
  },
  {
   "cell_type": "code",
   "execution_count": 29,
   "id": "b0d5a9f0-17fa-4da1-b4e1-c64bda3797c2",
   "metadata": {},
   "outputs": [
    {
     "data": {
      "text/plain": [
       "21    33.9\n",
       "20    33.5\n",
       "19    32.9\n",
       "18    32.5\n",
       "17    31.9\n",
       "16    31.4\n",
       "15    30.9\n",
       "10    28.5\n",
       "Name: Aholi soni, dtype: float64"
      ]
     },
     "execution_count": 29,
     "metadata": {},
     "output_type": "execute_result"
    }
   ],
   "source": [
    "df['Aholi soni']"
   ]
  },
  {
   "cell_type": "markdown",
   "id": "152dd67d-f546-4d7c-b0ae-df1dd03d5f78",
   "metadata": {},
   "source": [
    "1-Usul faqatgina ustun nomi bir so'zdan iborat, Python o'zgaruvchi talablariga javob bergan holda ishlaydi. "
   ]
  },
  {
   "cell_type": "markdown",
   "id": "6e007204-d7a2-4ed3-a78f-a0fadd19f295",
   "metadata": {},
   "source": [
    "Ahamiyat bering, ajratib olingan ustunlar indeksi va ustun nomi saqlanib qoladi"
   ]
  },
  {
   "cell_type": "markdown",
   "id": "c0a50c58-8c9b-4da9-aea9-5a31718f45a5",
   "metadata": {},
   "source": [
    "Yuqoridagi usul bilan biz ustundagi barcha elementlarga qiymat berishimiz mumkin:"
   ]
  },
  {
   "cell_type": "code",
   "execution_count": 41,
   "id": "34710025-1e9f-4001-a1ab-d0a0b95ec2db",
   "metadata": {},
   "outputs": [],
   "source": [
    "df.YAIM = 1600"
   ]
  },
  {
   "cell_type": "code",
   "execution_count": 42,
   "id": "c817bfeb-f843-46c5-9ffc-1c62e27acf8a",
   "metadata": {},
   "outputs": [
    {
     "data": {
      "text/html": [
       "<div>\n",
       "<style scoped>\n",
       "    .dataframe tbody tr th:only-of-type {\n",
       "        vertical-align: middle;\n",
       "    }\n",
       "\n",
       "    .dataframe tbody tr th {\n",
       "        vertical-align: top;\n",
       "    }\n",
       "\n",
       "    .dataframe thead th {\n",
       "        text-align: right;\n",
       "    }\n",
       "</style>\n",
       "<table border=\"1\" class=\"dataframe\">\n",
       "  <thead>\n",
       "    <tr style=\"text-align: right;\">\n",
       "      <th></th>\n",
       "      <th>Yil</th>\n",
       "      <th>Temp</th>\n",
       "      <th>Aholi soni</th>\n",
       "      <th>YAIM</th>\n",
       "    </tr>\n",
       "  </thead>\n",
       "  <tbody>\n",
       "    <tr>\n",
       "      <th>21</th>\n",
       "      <td>2021</td>\n",
       "      <td>1.54</td>\n",
       "      <td>33.9</td>\n",
       "      <td>1600</td>\n",
       "    </tr>\n",
       "    <tr>\n",
       "      <th>20</th>\n",
       "      <td>2020</td>\n",
       "      <td>1.48</td>\n",
       "      <td>33.5</td>\n",
       "      <td>1600</td>\n",
       "    </tr>\n",
       "    <tr>\n",
       "      <th>19</th>\n",
       "      <td>2019</td>\n",
       "      <td>1.56</td>\n",
       "      <td>32.9</td>\n",
       "      <td>1600</td>\n",
       "    </tr>\n",
       "    <tr>\n",
       "      <th>18</th>\n",
       "      <td>2018</td>\n",
       "      <td>1.62</td>\n",
       "      <td>32.5</td>\n",
       "      <td>1600</td>\n",
       "    </tr>\n",
       "    <tr>\n",
       "      <th>17</th>\n",
       "      <td>2017</td>\n",
       "      <td>1.65</td>\n",
       "      <td>31.9</td>\n",
       "      <td>1600</td>\n",
       "    </tr>\n",
       "    <tr>\n",
       "      <th>16</th>\n",
       "      <td>2016</td>\n",
       "      <td>1.66</td>\n",
       "      <td>31.4</td>\n",
       "      <td>1600</td>\n",
       "    </tr>\n",
       "    <tr>\n",
       "      <th>15</th>\n",
       "      <td>2015</td>\n",
       "      <td>1.64</td>\n",
       "      <td>30.9</td>\n",
       "      <td>1600</td>\n",
       "    </tr>\n",
       "    <tr>\n",
       "      <th>10</th>\n",
       "      <td>2010</td>\n",
       "      <td>1.53</td>\n",
       "      <td>28.5</td>\n",
       "      <td>1600</td>\n",
       "    </tr>\n",
       "  </tbody>\n",
       "</table>\n",
       "</div>"
      ],
      "text/plain": [
       "     Yil  Temp  Aholi soni  YAIM\n",
       "21  2021  1.54        33.9  1600\n",
       "20  2020  1.48        33.5  1600\n",
       "19  2019  1.56        32.9  1600\n",
       "18  2018  1.62        32.5  1600\n",
       "17  2017  1.65        31.9  1600\n",
       "16  2016  1.66        31.4  1600\n",
       "15  2015  1.64        30.9  1600\n",
       "10  2010  1.53        28.5  1600"
      ]
     },
     "execution_count": 42,
     "metadata": {},
     "output_type": "execute_result"
    }
   ],
   "source": [
    "df"
   ]
  },
  {
   "cell_type": "markdown",
   "id": "f72f3a6f-b68c-441f-83e4-0926c3abaec0",
   "metadata": {},
   "source": [
    "`Series` yordamida biror ustunning ma'lum bir qatorlariga o'zgartirish kiritish mumkin. Bunda qatorlarning indeksi berilishi shart."
   ]
  },
  {
   "cell_type": "code",
   "execution_count": 46,
   "id": "502faafd-5c82-4919-b088-fec36b07490d",
   "metadata": {},
   "outputs": [],
   "source": [
    "val = pd.Series([1750, 1560, 1270], index=[21, 18, 10])"
   ]
  },
  {
   "cell_type": "code",
   "execution_count": 47,
   "id": "996a221f-1087-4031-bc84-0ed5d0fe4d98",
   "metadata": {},
   "outputs": [],
   "source": [
    "df.YAIM = val"
   ]
  },
  {
   "cell_type": "code",
   "execution_count": 48,
   "id": "5120b3d7-fe3f-4dd1-a2c9-132a881a2ddb",
   "metadata": {},
   "outputs": [
    {
     "data": {
      "text/html": [
       "<div>\n",
       "<style scoped>\n",
       "    .dataframe tbody tr th:only-of-type {\n",
       "        vertical-align: middle;\n",
       "    }\n",
       "\n",
       "    .dataframe tbody tr th {\n",
       "        vertical-align: top;\n",
       "    }\n",
       "\n",
       "    .dataframe thead th {\n",
       "        text-align: right;\n",
       "    }\n",
       "</style>\n",
       "<table border=\"1\" class=\"dataframe\">\n",
       "  <thead>\n",
       "    <tr style=\"text-align: right;\">\n",
       "      <th></th>\n",
       "      <th>Yil</th>\n",
       "      <th>Temp</th>\n",
       "      <th>Aholi soni</th>\n",
       "      <th>YAIM</th>\n",
       "    </tr>\n",
       "  </thead>\n",
       "  <tbody>\n",
       "    <tr>\n",
       "      <th>21</th>\n",
       "      <td>2021</td>\n",
       "      <td>1.54</td>\n",
       "      <td>33.9</td>\n",
       "      <td>1750.0</td>\n",
       "    </tr>\n",
       "    <tr>\n",
       "      <th>20</th>\n",
       "      <td>2020</td>\n",
       "      <td>1.48</td>\n",
       "      <td>33.5</td>\n",
       "      <td>NaN</td>\n",
       "    </tr>\n",
       "    <tr>\n",
       "      <th>19</th>\n",
       "      <td>2019</td>\n",
       "      <td>1.56</td>\n",
       "      <td>32.9</td>\n",
       "      <td>NaN</td>\n",
       "    </tr>\n",
       "    <tr>\n",
       "      <th>18</th>\n",
       "      <td>2018</td>\n",
       "      <td>1.62</td>\n",
       "      <td>32.5</td>\n",
       "      <td>1560.0</td>\n",
       "    </tr>\n",
       "    <tr>\n",
       "      <th>17</th>\n",
       "      <td>2017</td>\n",
       "      <td>1.65</td>\n",
       "      <td>31.9</td>\n",
       "      <td>NaN</td>\n",
       "    </tr>\n",
       "    <tr>\n",
       "      <th>16</th>\n",
       "      <td>2016</td>\n",
       "      <td>1.66</td>\n",
       "      <td>31.4</td>\n",
       "      <td>NaN</td>\n",
       "    </tr>\n",
       "    <tr>\n",
       "      <th>15</th>\n",
       "      <td>2015</td>\n",
       "      <td>1.64</td>\n",
       "      <td>30.9</td>\n",
       "      <td>NaN</td>\n",
       "    </tr>\n",
       "    <tr>\n",
       "      <th>10</th>\n",
       "      <td>2010</td>\n",
       "      <td>1.53</td>\n",
       "      <td>28.5</td>\n",
       "      <td>1270.0</td>\n",
       "    </tr>\n",
       "  </tbody>\n",
       "</table>\n",
       "</div>"
      ],
      "text/plain": [
       "     Yil  Temp  Aholi soni    YAIM\n",
       "21  2021  1.54        33.9  1750.0\n",
       "20  2020  1.48        33.5     NaN\n",
       "19  2019  1.56        32.9     NaN\n",
       "18  2018  1.62        32.5  1560.0\n",
       "17  2017  1.65        31.9     NaN\n",
       "16  2016  1.66        31.4     NaN\n",
       "15  2015  1.64        30.9     NaN\n",
       "10  2010  1.53        28.5  1270.0"
      ]
     },
     "execution_count": 48,
     "metadata": {},
     "output_type": "execute_result"
    }
   ],
   "source": [
    "df"
   ]
  },
  {
   "cell_type": "markdown",
   "id": "dc93a10d-ba82-4525-bd8a-043ca878b615",
   "metadata": {},
   "source": [
    "Shuningdek ustun qiymatlarini o'zgartirish uchun shu ustun qatorlari soniga teng ro'yxatdan foydalanishimiz mumkin."
   ]
  },
  {
   "cell_type": "code",
   "execution_count": 49,
   "id": "bc6bb9df-ca96-401d-9b82-ccfb78b97f8f",
   "metadata": {},
   "outputs": [],
   "source": [
    "YAIM = [1700, 1670, 1600, 1590, 1400, 1300, 1350, 1360]"
   ]
  },
  {
   "cell_type": "code",
   "execution_count": 50,
   "id": "1f17db00-ad9b-4e22-91c3-8b63cf05c6be",
   "metadata": {},
   "outputs": [],
   "source": [
    "df['YAIM'] = YAIM"
   ]
  },
  {
   "cell_type": "code",
   "execution_count": 51,
   "id": "4655fab9-cdc4-4b26-836b-70c13993f993",
   "metadata": {},
   "outputs": [
    {
     "data": {
      "text/html": [
       "<div>\n",
       "<style scoped>\n",
       "    .dataframe tbody tr th:only-of-type {\n",
       "        vertical-align: middle;\n",
       "    }\n",
       "\n",
       "    .dataframe tbody tr th {\n",
       "        vertical-align: top;\n",
       "    }\n",
       "\n",
       "    .dataframe thead th {\n",
       "        text-align: right;\n",
       "    }\n",
       "</style>\n",
       "<table border=\"1\" class=\"dataframe\">\n",
       "  <thead>\n",
       "    <tr style=\"text-align: right;\">\n",
       "      <th></th>\n",
       "      <th>Yil</th>\n",
       "      <th>Temp</th>\n",
       "      <th>Aholi soni</th>\n",
       "      <th>YAIM</th>\n",
       "    </tr>\n",
       "  </thead>\n",
       "  <tbody>\n",
       "    <tr>\n",
       "      <th>21</th>\n",
       "      <td>2021</td>\n",
       "      <td>1.54</td>\n",
       "      <td>33.9</td>\n",
       "      <td>1700</td>\n",
       "    </tr>\n",
       "    <tr>\n",
       "      <th>20</th>\n",
       "      <td>2020</td>\n",
       "      <td>1.48</td>\n",
       "      <td>33.5</td>\n",
       "      <td>1670</td>\n",
       "    </tr>\n",
       "    <tr>\n",
       "      <th>19</th>\n",
       "      <td>2019</td>\n",
       "      <td>1.56</td>\n",
       "      <td>32.9</td>\n",
       "      <td>1600</td>\n",
       "    </tr>\n",
       "    <tr>\n",
       "      <th>18</th>\n",
       "      <td>2018</td>\n",
       "      <td>1.62</td>\n",
       "      <td>32.5</td>\n",
       "      <td>1590</td>\n",
       "    </tr>\n",
       "    <tr>\n",
       "      <th>17</th>\n",
       "      <td>2017</td>\n",
       "      <td>1.65</td>\n",
       "      <td>31.9</td>\n",
       "      <td>1400</td>\n",
       "    </tr>\n",
       "    <tr>\n",
       "      <th>16</th>\n",
       "      <td>2016</td>\n",
       "      <td>1.66</td>\n",
       "      <td>31.4</td>\n",
       "      <td>1300</td>\n",
       "    </tr>\n",
       "    <tr>\n",
       "      <th>15</th>\n",
       "      <td>2015</td>\n",
       "      <td>1.64</td>\n",
       "      <td>30.9</td>\n",
       "      <td>1350</td>\n",
       "    </tr>\n",
       "    <tr>\n",
       "      <th>10</th>\n",
       "      <td>2010</td>\n",
       "      <td>1.53</td>\n",
       "      <td>28.5</td>\n",
       "      <td>1360</td>\n",
       "    </tr>\n",
       "  </tbody>\n",
       "</table>\n",
       "</div>"
      ],
      "text/plain": [
       "     Yil  Temp  Aholi soni  YAIM\n",
       "21  2021  1.54        33.9  1700\n",
       "20  2020  1.48        33.5  1670\n",
       "19  2019  1.56        32.9  1600\n",
       "18  2018  1.62        32.5  1590\n",
       "17  2017  1.65        31.9  1400\n",
       "16  2016  1.66        31.4  1300\n",
       "15  2015  1.64        30.9  1350\n",
       "10  2010  1.53        28.5  1360"
      ]
     },
     "execution_count": 51,
     "metadata": {},
     "output_type": "execute_result"
    }
   ],
   "source": [
    "df"
   ]
  },
  {
   "cell_type": "markdown",
   "id": "34010bf2-e2e5-40e5-8983-fae9d0c3d376",
   "metadata": {},
   "source": [
    "Agar qiymat berishda mavjud bo'lmagan ustun nomi yozilsa, `DataFrame`ga yangi ustun qo'shiladi (bu faqat lug'at ko'rinishda yozishga xos). \n",
    "\n",
    "Quyidagi misolda biz avval yangi `1500+` degan ustun yaratdik keyin esa bu ustun qiymatlarini `df.YAIM>1500` sharti yordamida to'ldridik (ya'ni yalpi ichki mahsluot `1500` dan katta bo'lsa `True` aks holda 'False`."
   ]
  },
  {
   "cell_type": "code",
   "execution_count": 54,
   "id": "779b850f-181a-4525-a23e-2c42e23fb52e",
   "metadata": {},
   "outputs": [],
   "source": [
    "df[\"1500+\"] = df.YAIM>1500"
   ]
  },
  {
   "cell_type": "code",
   "execution_count": 57,
   "id": "6003574f-135f-4bc2-b367-7ca3c5035416",
   "metadata": {},
   "outputs": [
    {
     "data": {
      "text/html": [
       "<div>\n",
       "<style scoped>\n",
       "    .dataframe tbody tr th:only-of-type {\n",
       "        vertical-align: middle;\n",
       "    }\n",
       "\n",
       "    .dataframe tbody tr th {\n",
       "        vertical-align: top;\n",
       "    }\n",
       "\n",
       "    .dataframe thead th {\n",
       "        text-align: right;\n",
       "    }\n",
       "</style>\n",
       "<table border=\"1\" class=\"dataframe\">\n",
       "  <thead>\n",
       "    <tr style=\"text-align: right;\">\n",
       "      <th></th>\n",
       "      <th>Yil</th>\n",
       "      <th>Temp</th>\n",
       "      <th>Aholi soni</th>\n",
       "      <th>YAIM</th>\n",
       "      <th>1500+</th>\n",
       "    </tr>\n",
       "  </thead>\n",
       "  <tbody>\n",
       "    <tr>\n",
       "      <th>21</th>\n",
       "      <td>2021</td>\n",
       "      <td>1.54</td>\n",
       "      <td>33.9</td>\n",
       "      <td>1700</td>\n",
       "      <td>True</td>\n",
       "    </tr>\n",
       "    <tr>\n",
       "      <th>20</th>\n",
       "      <td>2020</td>\n",
       "      <td>1.48</td>\n",
       "      <td>33.5</td>\n",
       "      <td>1670</td>\n",
       "      <td>True</td>\n",
       "    </tr>\n",
       "    <tr>\n",
       "      <th>19</th>\n",
       "      <td>2019</td>\n",
       "      <td>1.56</td>\n",
       "      <td>32.9</td>\n",
       "      <td>1600</td>\n",
       "      <td>True</td>\n",
       "    </tr>\n",
       "    <tr>\n",
       "      <th>18</th>\n",
       "      <td>2018</td>\n",
       "      <td>1.62</td>\n",
       "      <td>32.5</td>\n",
       "      <td>1590</td>\n",
       "      <td>True</td>\n",
       "    </tr>\n",
       "    <tr>\n",
       "      <th>17</th>\n",
       "      <td>2017</td>\n",
       "      <td>1.65</td>\n",
       "      <td>31.9</td>\n",
       "      <td>1400</td>\n",
       "      <td>False</td>\n",
       "    </tr>\n",
       "    <tr>\n",
       "      <th>16</th>\n",
       "      <td>2016</td>\n",
       "      <td>1.66</td>\n",
       "      <td>31.4</td>\n",
       "      <td>1300</td>\n",
       "      <td>False</td>\n",
       "    </tr>\n",
       "    <tr>\n",
       "      <th>15</th>\n",
       "      <td>2015</td>\n",
       "      <td>1.64</td>\n",
       "      <td>30.9</td>\n",
       "      <td>1350</td>\n",
       "      <td>False</td>\n",
       "    </tr>\n",
       "    <tr>\n",
       "      <th>10</th>\n",
       "      <td>2010</td>\n",
       "      <td>1.53</td>\n",
       "      <td>28.5</td>\n",
       "      <td>1360</td>\n",
       "      <td>False</td>\n",
       "    </tr>\n",
       "  </tbody>\n",
       "</table>\n",
       "</div>"
      ],
      "text/plain": [
       "     Yil  Temp  Aholi soni  YAIM  1500+\n",
       "21  2021  1.54        33.9  1700   True\n",
       "20  2020  1.48        33.5  1670   True\n",
       "19  2019  1.56        32.9  1600   True\n",
       "18  2018  1.62        32.5  1590   True\n",
       "17  2017  1.65        31.9  1400  False\n",
       "16  2016  1.66        31.4  1300  False\n",
       "15  2015  1.64        30.9  1350  False\n",
       "10  2010  1.53        28.5  1360  False"
      ]
     },
     "execution_count": 57,
     "metadata": {},
     "output_type": "execute_result"
    }
   ],
   "source": [
    "df"
   ]
  },
  {
   "cell_type": "markdown",
   "id": "b1665406-5fa3-408e-a8a7-5abd166433d0",
   "metadata": {},
   "source": [
    "Huddi lug'atlardagi kabi istalgan ustunni del operatori yordamida o'chirib tashlash ham mumkin."
   ]
  },
  {
   "cell_type": "code",
   "execution_count": 58,
   "id": "42966456-f084-4e60-819f-b192c40b96b9",
   "metadata": {},
   "outputs": [],
   "source": [
    "del df['1500+']"
   ]
  },
  {
   "cell_type": "code",
   "execution_count": 59,
   "id": "fa1fa53f-93b5-4276-8c0b-c18a97025fe8",
   "metadata": {},
   "outputs": [
    {
     "data": {
      "text/html": [
       "<div>\n",
       "<style scoped>\n",
       "    .dataframe tbody tr th:only-of-type {\n",
       "        vertical-align: middle;\n",
       "    }\n",
       "\n",
       "    .dataframe tbody tr th {\n",
       "        vertical-align: top;\n",
       "    }\n",
       "\n",
       "    .dataframe thead th {\n",
       "        text-align: right;\n",
       "    }\n",
       "</style>\n",
       "<table border=\"1\" class=\"dataframe\">\n",
       "  <thead>\n",
       "    <tr style=\"text-align: right;\">\n",
       "      <th></th>\n",
       "      <th>Yil</th>\n",
       "      <th>Temp</th>\n",
       "      <th>Aholi soni</th>\n",
       "      <th>YAIM</th>\n",
       "    </tr>\n",
       "  </thead>\n",
       "  <tbody>\n",
       "    <tr>\n",
       "      <th>21</th>\n",
       "      <td>2021</td>\n",
       "      <td>1.54</td>\n",
       "      <td>33.9</td>\n",
       "      <td>1700</td>\n",
       "    </tr>\n",
       "    <tr>\n",
       "      <th>20</th>\n",
       "      <td>2020</td>\n",
       "      <td>1.48</td>\n",
       "      <td>33.5</td>\n",
       "      <td>1670</td>\n",
       "    </tr>\n",
       "    <tr>\n",
       "      <th>19</th>\n",
       "      <td>2019</td>\n",
       "      <td>1.56</td>\n",
       "      <td>32.9</td>\n",
       "      <td>1600</td>\n",
       "    </tr>\n",
       "    <tr>\n",
       "      <th>18</th>\n",
       "      <td>2018</td>\n",
       "      <td>1.62</td>\n",
       "      <td>32.5</td>\n",
       "      <td>1590</td>\n",
       "    </tr>\n",
       "    <tr>\n",
       "      <th>17</th>\n",
       "      <td>2017</td>\n",
       "      <td>1.65</td>\n",
       "      <td>31.9</td>\n",
       "      <td>1400</td>\n",
       "    </tr>\n",
       "    <tr>\n",
       "      <th>16</th>\n",
       "      <td>2016</td>\n",
       "      <td>1.66</td>\n",
       "      <td>31.4</td>\n",
       "      <td>1300</td>\n",
       "    </tr>\n",
       "    <tr>\n",
       "      <th>15</th>\n",
       "      <td>2015</td>\n",
       "      <td>1.64</td>\n",
       "      <td>30.9</td>\n",
       "      <td>1350</td>\n",
       "    </tr>\n",
       "    <tr>\n",
       "      <th>10</th>\n",
       "      <td>2010</td>\n",
       "      <td>1.53</td>\n",
       "      <td>28.5</td>\n",
       "      <td>1360</td>\n",
       "    </tr>\n",
       "  </tbody>\n",
       "</table>\n",
       "</div>"
      ],
      "text/plain": [
       "     Yil  Temp  Aholi soni  YAIM\n",
       "21  2021  1.54        33.9  1700\n",
       "20  2020  1.48        33.5  1670\n",
       "19  2019  1.56        32.9  1600\n",
       "18  2018  1.62        32.5  1590\n",
       "17  2017  1.65        31.9  1400\n",
       "16  2016  1.66        31.4  1300\n",
       "15  2015  1.64        30.9  1350\n",
       "10  2010  1.53        28.5  1360"
      ]
     },
     "execution_count": 59,
     "metadata": {},
     "output_type": "execute_result"
    }
   ],
   "source": [
    "df"
   ]
  },
  {
   "cell_type": "markdown",
   "id": "5a2c4886-fe8c-4f11-a452-f21eb471fa62",
   "metadata": {},
   "source": [
    "`DataFrame` yaratishning yana bir usuli lug'atlar lug'atidan foydalanish. Bunda tashqi lug'at kalitlari ustun, ichki lug'at kalitlari esa indeks bo'ladi."
   ]
  },
  {
   "cell_type": "code",
   "execution_count": 61,
   "id": "dc305f58-510b-4131-bb3a-d2fd1b86051d",
   "metadata": {},
   "outputs": [],
   "source": [
    "data = {\n",
    "    'Uzbekistan':{2021:33.9, 2020:33.5, 2019:32.9, 2018:32.5, 2017:31.9},\n",
    "    'Kazakhstan':{2021:18.9, 2020:18.7, 2019:18.5, 2018:18.3, 2017:18.1, 2016:17.8}\n",
    "}"
   ]
  },
  {
   "cell_type": "code",
   "execution_count": 77,
   "id": "84261c5c-59f0-4b73-89f5-81e9451641b0",
   "metadata": {},
   "outputs": [],
   "source": [
    "df2 = DataFrame(data)"
   ]
  },
  {
   "cell_type": "code",
   "execution_count": 78,
   "id": "450ff890-0894-461d-accd-7b53db91468a",
   "metadata": {},
   "outputs": [
    {
     "data": {
      "text/html": [
       "<div>\n",
       "<style scoped>\n",
       "    .dataframe tbody tr th:only-of-type {\n",
       "        vertical-align: middle;\n",
       "    }\n",
       "\n",
       "    .dataframe tbody tr th {\n",
       "        vertical-align: top;\n",
       "    }\n",
       "\n",
       "    .dataframe thead th {\n",
       "        text-align: right;\n",
       "    }\n",
       "</style>\n",
       "<table border=\"1\" class=\"dataframe\">\n",
       "  <thead>\n",
       "    <tr style=\"text-align: right;\">\n",
       "      <th></th>\n",
       "      <th>Uzbekistan</th>\n",
       "      <th>Kazakhstan</th>\n",
       "    </tr>\n",
       "  </thead>\n",
       "  <tbody>\n",
       "    <tr>\n",
       "      <th>2021</th>\n",
       "      <td>33.9</td>\n",
       "      <td>18.9</td>\n",
       "    </tr>\n",
       "    <tr>\n",
       "      <th>2020</th>\n",
       "      <td>33.5</td>\n",
       "      <td>18.7</td>\n",
       "    </tr>\n",
       "    <tr>\n",
       "      <th>2019</th>\n",
       "      <td>32.9</td>\n",
       "      <td>18.5</td>\n",
       "    </tr>\n",
       "    <tr>\n",
       "      <th>2018</th>\n",
       "      <td>32.5</td>\n",
       "      <td>18.3</td>\n",
       "    </tr>\n",
       "    <tr>\n",
       "      <th>2017</th>\n",
       "      <td>31.9</td>\n",
       "      <td>18.1</td>\n",
       "    </tr>\n",
       "    <tr>\n",
       "      <th>2016</th>\n",
       "      <td>NaN</td>\n",
       "      <td>17.8</td>\n",
       "    </tr>\n",
       "  </tbody>\n",
       "</table>\n",
       "</div>"
      ],
      "text/plain": [
       "      Uzbekistan  Kazakhstan\n",
       "2021        33.9        18.9\n",
       "2020        33.5        18.7\n",
       "2019        32.9        18.5\n",
       "2018        32.5        18.3\n",
       "2017        31.9        18.1\n",
       "2016         NaN        17.8"
      ]
     },
     "execution_count": 78,
     "metadata": {},
     "output_type": "execute_result"
    }
   ],
   "source": [
    "df2"
   ]
  },
  {
   "cell_type": "markdown",
   "id": "27a0fad4-cca4-4ef4-aeb4-8e122633abf9",
   "metadata": {},
   "source": [
    "E'tibor bering, Uzbekistan ustunda 2016 yil uchun qiymat yo'q. Sababi nimada?"
   ]
  },
  {
   "cell_type": "markdown",
   "id": "761b2a51-1822-4c3e-83eb-8213c76e3fb3",
   "metadata": {},
   "source": [
    "Huddi `Series` kabi, `DataFrame` indeksini ham nomlashimiz mumkin."
   ]
  },
  {
   "cell_type": "code",
   "execution_count": 79,
   "id": "a9c2f264-8629-41a3-886a-381b87eeafcf",
   "metadata": {},
   "outputs": [
    {
     "data": {
      "text/html": [
       "<div>\n",
       "<style scoped>\n",
       "    .dataframe tbody tr th:only-of-type {\n",
       "        vertical-align: middle;\n",
       "    }\n",
       "\n",
       "    .dataframe tbody tr th {\n",
       "        vertical-align: top;\n",
       "    }\n",
       "\n",
       "    .dataframe thead th {\n",
       "        text-align: right;\n",
       "    }\n",
       "</style>\n",
       "<table border=\"1\" class=\"dataframe\">\n",
       "  <thead>\n",
       "    <tr style=\"text-align: right;\">\n",
       "      <th></th>\n",
       "      <th>Uzbekistan</th>\n",
       "      <th>Kazakhstan</th>\n",
       "    </tr>\n",
       "    <tr>\n",
       "      <th>Yil</th>\n",
       "      <th></th>\n",
       "      <th></th>\n",
       "    </tr>\n",
       "  </thead>\n",
       "  <tbody>\n",
       "    <tr>\n",
       "      <th>2021</th>\n",
       "      <td>33.9</td>\n",
       "      <td>18.9</td>\n",
       "    </tr>\n",
       "    <tr>\n",
       "      <th>2020</th>\n",
       "      <td>33.5</td>\n",
       "      <td>18.7</td>\n",
       "    </tr>\n",
       "    <tr>\n",
       "      <th>2019</th>\n",
       "      <td>32.9</td>\n",
       "      <td>18.5</td>\n",
       "    </tr>\n",
       "    <tr>\n",
       "      <th>2018</th>\n",
       "      <td>32.5</td>\n",
       "      <td>18.3</td>\n",
       "    </tr>\n",
       "    <tr>\n",
       "      <th>2017</th>\n",
       "      <td>31.9</td>\n",
       "      <td>18.1</td>\n",
       "    </tr>\n",
       "    <tr>\n",
       "      <th>2016</th>\n",
       "      <td>NaN</td>\n",
       "      <td>17.8</td>\n",
       "    </tr>\n",
       "  </tbody>\n",
       "</table>\n",
       "</div>"
      ],
      "text/plain": [
       "      Uzbekistan  Kazakhstan\n",
       "Yil                         \n",
       "2021        33.9        18.9\n",
       "2020        33.5        18.7\n",
       "2019        32.9        18.5\n",
       "2018        32.5        18.3\n",
       "2017        31.9        18.1\n",
       "2016         NaN        17.8"
      ]
     },
     "execution_count": 79,
     "metadata": {},
     "output_type": "execute_result"
    }
   ],
   "source": [
    "df2.index.name = \"Yil\"\n",
    "df2"
   ]
  },
  {
   "cell_type": "markdown",
   "id": "50eddabe-ea05-4970-861e-6744681b7be3",
   "metadata": {},
   "source": [
    "Agar biz lug'atdan faqagina ma'lum bir qiymatlarni ajratib olishni istasak index ni o'zimiz ko'rsatishimiz mumkin. "
   ]
  },
  {
   "cell_type": "code",
   "execution_count": 80,
   "id": "82f92433-c5d7-4bd3-afef-108f220632c6",
   "metadata": {},
   "outputs": [],
   "source": [
    "df2 = DataFrame(data, index=[2021, 2019, 2017]) # 2021, 2019 va 2017 yil ma'lumotlarini olamiz"
   ]
  },
  {
   "cell_type": "code",
   "execution_count": 81,
   "id": "6d99e44f-41d6-4a69-8da3-834de1b9375d",
   "metadata": {},
   "outputs": [
    {
     "data": {
      "text/html": [
       "<div>\n",
       "<style scoped>\n",
       "    .dataframe tbody tr th:only-of-type {\n",
       "        vertical-align: middle;\n",
       "    }\n",
       "\n",
       "    .dataframe tbody tr th {\n",
       "        vertical-align: top;\n",
       "    }\n",
       "\n",
       "    .dataframe thead th {\n",
       "        text-align: right;\n",
       "    }\n",
       "</style>\n",
       "<table border=\"1\" class=\"dataframe\">\n",
       "  <thead>\n",
       "    <tr style=\"text-align: right;\">\n",
       "      <th></th>\n",
       "      <th>Uzbekistan</th>\n",
       "      <th>Kazakhstan</th>\n",
       "    </tr>\n",
       "  </thead>\n",
       "  <tbody>\n",
       "    <tr>\n",
       "      <th>2021</th>\n",
       "      <td>33.9</td>\n",
       "      <td>18.9</td>\n",
       "    </tr>\n",
       "    <tr>\n",
       "      <th>2019</th>\n",
       "      <td>32.9</td>\n",
       "      <td>18.5</td>\n",
       "    </tr>\n",
       "    <tr>\n",
       "      <th>2017</th>\n",
       "      <td>31.9</td>\n",
       "      <td>18.1</td>\n",
       "    </tr>\n",
       "  </tbody>\n",
       "</table>\n",
       "</div>"
      ],
      "text/plain": [
       "      Uzbekistan  Kazakhstan\n",
       "2021        33.9        18.9\n",
       "2019        32.9        18.5\n",
       "2017        31.9        18.1"
      ]
     },
     "execution_count": 81,
     "metadata": {},
     "output_type": "execute_result"
    }
   ],
   "source": [
    "df2"
   ]
  },
  {
   "cell_type": "markdown",
   "id": "603e28e0-8173-4b1f-8ec2-176731e63f3b",
   "metadata": {},
   "source": [
    "Indekslar va Ustunlar o'rnini almashtirish uchun `.T` (transpose) metodidan foydalanish mumkin."
   ]
  },
  {
   "cell_type": "code",
   "execution_count": 82,
   "id": "4c51df94-e486-4848-a4ad-93e3f490f92a",
   "metadata": {},
   "outputs": [
    {
     "data": {
      "text/html": [
       "<div>\n",
       "<style scoped>\n",
       "    .dataframe tbody tr th:only-of-type {\n",
       "        vertical-align: middle;\n",
       "    }\n",
       "\n",
       "    .dataframe tbody tr th {\n",
       "        vertical-align: top;\n",
       "    }\n",
       "\n",
       "    .dataframe thead th {\n",
       "        text-align: right;\n",
       "    }\n",
       "</style>\n",
       "<table border=\"1\" class=\"dataframe\">\n",
       "  <thead>\n",
       "    <tr style=\"text-align: right;\">\n",
       "      <th></th>\n",
       "      <th>2021</th>\n",
       "      <th>2019</th>\n",
       "      <th>2017</th>\n",
       "    </tr>\n",
       "  </thead>\n",
       "  <tbody>\n",
       "    <tr>\n",
       "      <th>Uzbekistan</th>\n",
       "      <td>33.9</td>\n",
       "      <td>32.9</td>\n",
       "      <td>31.9</td>\n",
       "    </tr>\n",
       "    <tr>\n",
       "      <th>Kazakhstan</th>\n",
       "      <td>18.9</td>\n",
       "      <td>18.5</td>\n",
       "      <td>18.1</td>\n",
       "    </tr>\n",
       "  </tbody>\n",
       "</table>\n",
       "</div>"
      ],
      "text/plain": [
       "            2021  2019  2017\n",
       "Uzbekistan  33.9  32.9  31.9\n",
       "Kazakhstan  18.9  18.5  18.1"
      ]
     },
     "execution_count": 82,
     "metadata": {},
     "output_type": "execute_result"
    }
   ],
   "source": [
    "df2.T"
   ]
  },
  {
   "cell_type": "markdown",
   "id": "2c181130-72b9-4cce-aa17-a3659fa9783d",
   "metadata": {},
   "source": [
    "`.values` parametri yordamida `DataFrame` ichidagi qiymatlarni 2-o'lchamli massiv ko'rinishida olishimiz mumkin."
   ]
  },
  {
   "cell_type": "code",
   "execution_count": 85,
   "id": "ff908c0d-df8a-4e64-b3b3-420535c99c6e",
   "metadata": {},
   "outputs": [
    {
     "data": {
      "text/plain": [
       "array([[33.9, 18.9],\n",
       "       [32.9, 18.5],\n",
       "       [31.9, 18.1]])"
      ]
     },
     "execution_count": 85,
     "metadata": {},
     "output_type": "execute_result"
    }
   ],
   "source": [
    "df2.values"
   ]
  },
  {
   "cell_type": "markdown",
   "id": "c7d4402d-f07e-493b-a64f-f2cb8ae8db12",
   "metadata": {},
   "source": [
    "## `Index` obyekti\n",
    "\n",
    "`Series` va `DataFrame` indeklasri ham maxsus Index obyekti hisoblanadi."
   ]
  },
  {
   "cell_type": "code",
   "execution_count": 91,
   "id": "8b0c48fc-bcf8-469a-ab61-e6b6891f77c4",
   "metadata": {},
   "outputs": [
    {
     "data": {
      "text/html": [
       "<div>\n",
       "<style scoped>\n",
       "    .dataframe tbody tr th:only-of-type {\n",
       "        vertical-align: middle;\n",
       "    }\n",
       "\n",
       "    .dataframe tbody tr th {\n",
       "        vertical-align: top;\n",
       "    }\n",
       "\n",
       "    .dataframe thead th {\n",
       "        text-align: right;\n",
       "    }\n",
       "</style>\n",
       "<table border=\"1\" class=\"dataframe\">\n",
       "  <thead>\n",
       "    <tr style=\"text-align: right;\">\n",
       "      <th></th>\n",
       "      <th>Yil</th>\n",
       "      <th>Temp</th>\n",
       "      <th>Aholi soni</th>\n",
       "      <th>YAIM</th>\n",
       "    </tr>\n",
       "  </thead>\n",
       "  <tbody>\n",
       "    <tr>\n",
       "      <th>21</th>\n",
       "      <td>2021</td>\n",
       "      <td>1.54</td>\n",
       "      <td>33.9</td>\n",
       "      <td>1700</td>\n",
       "    </tr>\n",
       "    <tr>\n",
       "      <th>20</th>\n",
       "      <td>2020</td>\n",
       "      <td>1.48</td>\n",
       "      <td>33.5</td>\n",
       "      <td>1670</td>\n",
       "    </tr>\n",
       "    <tr>\n",
       "      <th>19</th>\n",
       "      <td>2019</td>\n",
       "      <td>1.56</td>\n",
       "      <td>32.9</td>\n",
       "      <td>1600</td>\n",
       "    </tr>\n",
       "    <tr>\n",
       "      <th>18</th>\n",
       "      <td>2018</td>\n",
       "      <td>1.62</td>\n",
       "      <td>32.5</td>\n",
       "      <td>1590</td>\n",
       "    </tr>\n",
       "    <tr>\n",
       "      <th>17</th>\n",
       "      <td>2017</td>\n",
       "      <td>1.65</td>\n",
       "      <td>31.9</td>\n",
       "      <td>1400</td>\n",
       "    </tr>\n",
       "    <tr>\n",
       "      <th>16</th>\n",
       "      <td>2016</td>\n",
       "      <td>1.66</td>\n",
       "      <td>31.4</td>\n",
       "      <td>1300</td>\n",
       "    </tr>\n",
       "    <tr>\n",
       "      <th>15</th>\n",
       "      <td>2015</td>\n",
       "      <td>1.64</td>\n",
       "      <td>30.9</td>\n",
       "      <td>1350</td>\n",
       "    </tr>\n",
       "    <tr>\n",
       "      <th>10</th>\n",
       "      <td>2010</td>\n",
       "      <td>1.53</td>\n",
       "      <td>28.5</td>\n",
       "      <td>1360</td>\n",
       "    </tr>\n",
       "  </tbody>\n",
       "</table>\n",
       "</div>"
      ],
      "text/plain": [
       "     Yil  Temp  Aholi soni  YAIM\n",
       "21  2021  1.54        33.9  1700\n",
       "20  2020  1.48        33.5  1670\n",
       "19  2019  1.56        32.9  1600\n",
       "18  2018  1.62        32.5  1590\n",
       "17  2017  1.65        31.9  1400\n",
       "16  2016  1.66        31.4  1300\n",
       "15  2015  1.64        30.9  1350\n",
       "10  2010  1.53        28.5  1360"
      ]
     },
     "execution_count": 91,
     "metadata": {},
     "output_type": "execute_result"
    }
   ],
   "source": [
    "df"
   ]
  },
  {
   "cell_type": "code",
   "execution_count": 92,
   "id": "3e6e4ac5-7b33-410c-a8fe-e3c2b8d9ab65",
   "metadata": {},
   "outputs": [],
   "source": [
    "indeks = df.index"
   ]
  },
  {
   "cell_type": "code",
   "execution_count": 93,
   "id": "a6a0ce09-54bd-48f7-ac9f-4d40c25fd456",
   "metadata": {},
   "outputs": [
    {
     "data": {
      "text/plain": [
       "Int64Index([21, 20, 19, 18, 17, 16, 15, 10], dtype='int64')"
      ]
     },
     "execution_count": 93,
     "metadata": {},
     "output_type": "execute_result"
    }
   ],
   "source": [
    "indeks"
   ]
  },
  {
   "cell_type": "markdown",
   "id": "f48b2b15-b188-4d00-9fc9-8d1e58d6d8bc",
   "metadata": {},
   "source": [
    "`Index` elementlariga tartib raqami bo'yciha murojaat qilishimiz mumkin"
   ]
  },
  {
   "cell_type": "code",
   "execution_count": 96,
   "id": "c03131be-68bb-4b3a-aa6f-a55b722e82b8",
   "metadata": {},
   "outputs": [
    {
     "data": {
      "text/plain": [
       "21"
      ]
     },
     "execution_count": 96,
     "metadata": {},
     "output_type": "execute_result"
    }
   ],
   "source": [
    "indeks[0]"
   ]
  },
  {
   "cell_type": "code",
   "execution_count": 97,
   "id": "8cf40637-2823-49e1-bbc4-ab62ea497b9b",
   "metadata": {},
   "outputs": [
    {
     "data": {
      "text/plain": [
       "10"
      ]
     },
     "execution_count": 97,
     "metadata": {},
     "output_type": "execute_result"
    }
   ],
   "source": [
    "indeks[-1]"
   ]
  },
  {
   "cell_type": "code",
   "execution_count": 95,
   "id": "16e48ea4-ceea-4449-990b-2ea17841f885",
   "metadata": {},
   "outputs": [
    {
     "data": {
      "text/plain": [
       "Int64Index([19, 18, 17], dtype='int64')"
      ]
     },
     "execution_count": 95,
     "metadata": {},
     "output_type": "execute_result"
    }
   ],
   "source": [
    "indeks[2:5]"
   ]
  },
  {
   "cell_type": "markdown",
   "id": "03851586-2dd0-4715-b967-2aec0317a955",
   "metadata": {},
   "source": [
    "`Index` obyektining qiymatlarini o'zgartirib bo'lmaydi"
   ]
  },
  {
   "cell_type": "code",
   "execution_count": 98,
   "id": "d2462052-b2f7-4fe4-9f7d-7ee6f23e2d2e",
   "metadata": {},
   "outputs": [
    {
     "ename": "TypeError",
     "evalue": "Index does not support mutable operations",
     "output_type": "error",
     "traceback": [
      "\u001b[1;31m---------------------------------------------------------------------------\u001b[0m",
      "\u001b[1;31mTypeError\u001b[0m                                 Traceback (most recent call last)",
      "\u001b[1;32m<ipython-input-98-5ceb8604e3aa>\u001b[0m in \u001b[0;36m<module>\u001b[1;34m\u001b[0m\n\u001b[1;32m----> 1\u001b[1;33m \u001b[0mindeks\u001b[0m\u001b[1;33m[\u001b[0m\u001b[1;36m0\u001b[0m\u001b[1;33m]\u001b[0m\u001b[1;33m=\u001b[0m\u001b[1;36m22\u001b[0m\u001b[1;33m\u001b[0m\u001b[1;33m\u001b[0m\u001b[0m\n\u001b[0m",
      "\u001b[1;32m~\\Anaconda3\\lib\\site-packages\\pandas\\core\\indexes\\base.py\u001b[0m in \u001b[0;36m__setitem__\u001b[1;34m(self, key, value)\u001b[0m\n\u001b[0;32m   4275\u001b[0m     \u001b[1;33m@\u001b[0m\u001b[0mfinal\u001b[0m\u001b[1;33m\u001b[0m\u001b[1;33m\u001b[0m\u001b[0m\n\u001b[0;32m   4276\u001b[0m     \u001b[1;32mdef\u001b[0m \u001b[0m__setitem__\u001b[0m\u001b[1;33m(\u001b[0m\u001b[0mself\u001b[0m\u001b[1;33m,\u001b[0m \u001b[0mkey\u001b[0m\u001b[1;33m,\u001b[0m \u001b[0mvalue\u001b[0m\u001b[1;33m)\u001b[0m\u001b[1;33m:\u001b[0m\u001b[1;33m\u001b[0m\u001b[1;33m\u001b[0m\u001b[0m\n\u001b[1;32m-> 4277\u001b[1;33m         \u001b[1;32mraise\u001b[0m \u001b[0mTypeError\u001b[0m\u001b[1;33m(\u001b[0m\u001b[1;34m\"Index does not support mutable operations\"\u001b[0m\u001b[1;33m)\u001b[0m\u001b[1;33m\u001b[0m\u001b[1;33m\u001b[0m\u001b[0m\n\u001b[0m\u001b[0;32m   4278\u001b[0m \u001b[1;33m\u001b[0m\u001b[0m\n\u001b[0;32m   4279\u001b[0m     \u001b[1;32mdef\u001b[0m \u001b[0m__getitem__\u001b[0m\u001b[1;33m(\u001b[0m\u001b[0mself\u001b[0m\u001b[1;33m,\u001b[0m \u001b[0mkey\u001b[0m\u001b[1;33m)\u001b[0m\u001b[1;33m:\u001b[0m\u001b[1;33m\u001b[0m\u001b[1;33m\u001b[0m\u001b[0m\n",
      "\u001b[1;31mTypeError\u001b[0m: Index does not support mutable operations"
     ]
    }
   ],
   "source": [
    "indeks[0]=22"
   ]
  },
  {
   "cell_type": "markdown",
   "id": "d925b7ea-739f-4773-a389-9829e3bc4460",
   "metadata": {},
   "source": [
    "Buning afzalligi esa bir hil indeskli turli obyketlar (`DataFrame`lar) bilan ishlashni osonlashtiradi.\n",
    "\n",
    "Tasavvur qiling sizda turli yillar uchun turli ma'lumotlar turli jadvallarda (`DataFrame`larda) saqlanadi. Bu jadvallari o'zaro bog'lab turgna qiymat bu yillar. Agar yillardan indeks sifatida foydalansangiz, indesklar o'zgarmas bo'lishi hisobiga jadvallar o'rtasidagi bog'liqlik ham mustahkam bo'ladi."
   ]
  },
  {
   "cell_type": "code",
   "execution_count": 100,
   "id": "ecb52c38-96a9-45ef-98ed-145a549aab2b",
   "metadata": {},
   "outputs": [],
   "source": [
    "data1 = {\n",
    "    'Uzbekistan':{2021:33.9, 2020:33.5, 2019:32.9, 2018:32.5, 2017:31.9},\n",
    "    'Kazakhstan':{2021:18.9, 2020:18.7, 2019:18.5, 2018:18.3, 2017:18.1, 2016:17.8}\n",
    "}\n",
    "df = pd.DataFrame(data)"
   ]
  },
  {
   "cell_type": "code",
   "execution_count": 101,
   "id": "5fa5f64b-0838-464c-9e49-ec1d7606f512",
   "metadata": {},
   "outputs": [
    {
     "data": {
      "text/html": [
       "<div>\n",
       "<style scoped>\n",
       "    .dataframe tbody tr th:only-of-type {\n",
       "        vertical-align: middle;\n",
       "    }\n",
       "\n",
       "    .dataframe tbody tr th {\n",
       "        vertical-align: top;\n",
       "    }\n",
       "\n",
       "    .dataframe thead th {\n",
       "        text-align: right;\n",
       "    }\n",
       "</style>\n",
       "<table border=\"1\" class=\"dataframe\">\n",
       "  <thead>\n",
       "    <tr style=\"text-align: right;\">\n",
       "      <th></th>\n",
       "      <th>Uzbekistan</th>\n",
       "      <th>Kazakhstan</th>\n",
       "    </tr>\n",
       "  </thead>\n",
       "  <tbody>\n",
       "    <tr>\n",
       "      <th>2021</th>\n",
       "      <td>33.9</td>\n",
       "      <td>18.9</td>\n",
       "    </tr>\n",
       "    <tr>\n",
       "      <th>2020</th>\n",
       "      <td>33.5</td>\n",
       "      <td>18.7</td>\n",
       "    </tr>\n",
       "    <tr>\n",
       "      <th>2019</th>\n",
       "      <td>32.9</td>\n",
       "      <td>18.5</td>\n",
       "    </tr>\n",
       "    <tr>\n",
       "      <th>2018</th>\n",
       "      <td>32.5</td>\n",
       "      <td>18.3</td>\n",
       "    </tr>\n",
       "    <tr>\n",
       "      <th>2017</th>\n",
       "      <td>31.9</td>\n",
       "      <td>18.1</td>\n",
       "    </tr>\n",
       "    <tr>\n",
       "      <th>2016</th>\n",
       "      <td>NaN</td>\n",
       "      <td>17.8</td>\n",
       "    </tr>\n",
       "  </tbody>\n",
       "</table>\n",
       "</div>"
      ],
      "text/plain": [
       "      Uzbekistan  Kazakhstan\n",
       "2021        33.9        18.9\n",
       "2020        33.5        18.7\n",
       "2019        32.9        18.5\n",
       "2018        32.5        18.3\n",
       "2017        31.9        18.1\n",
       "2016         NaN        17.8"
      ]
     },
     "execution_count": 101,
     "metadata": {},
     "output_type": "execute_result"
    }
   ],
   "source": [
    "df"
   ]
  },
  {
   "cell_type": "code",
   "execution_count": 123,
   "id": "996cc6ab-c9c0-46f7-b96b-15d831b12e17",
   "metadata": {},
   "outputs": [
    {
     "data": {
      "text/plain": [
       "Index(['Uzbekistan', 'Kazakhstan'], dtype='object')"
      ]
     },
     "execution_count": 123,
     "metadata": {},
     "output_type": "execute_result"
    }
   ],
   "source": [
    "df.columns"
   ]
  },
  {
   "cell_type": "code",
   "execution_count": 124,
   "id": "70af2b61-a940-4388-a325-0f86f68c71af",
   "metadata": {},
   "outputs": [
    {
     "data": {
      "text/plain": [
       "False"
      ]
     },
     "execution_count": 124,
     "metadata": {},
     "output_type": "execute_result"
    }
   ],
   "source": [
    "'Tajikistan' in df.columns"
   ]
  },
  {
   "cell_type": "code",
   "execution_count": 125,
   "id": "dba3c601-1789-4444-a7ed-66214d76db22",
   "metadata": {},
   "outputs": [
    {
     "data": {
      "text/plain": [
       "True"
      ]
     },
     "execution_count": 125,
     "metadata": {},
     "output_type": "execute_result"
    }
   ],
   "source": [
    "2020 in df.index"
   ]
  },
  {
   "cell_type": "code",
   "execution_count": 109,
   "id": "e230e86a-c008-484a-b446-a05dbe3331c5",
   "metadata": {},
   "outputs": [],
   "source": [
    "indeks = df.index"
   ]
  },
  {
   "cell_type": "markdown",
   "id": "d6e3c362-17b5-418f-839d-a7e7cf25eb04",
   "metadata": {},
   "source": [
    "Python ro'yxatlaridan farqli ravishda `Index` takrorlanuvchi qiymatlar ega bo'lishi mumkin:"
   ]
  },
  {
   "cell_type": "code",
   "execution_count": 176,
   "id": "2628ec08-1815-4a1e-81e6-57df2ef92c1b",
   "metadata": {},
   "outputs": [],
   "source": [
    "usernames = {\"anvar\":\"anvarbek223\", \"olim\":\"olimtoy\", \"maryam\":\"mary334455\",\"javohir\":\"javohir445\"}\n",
    "emails = {\"anvar\":\"anvar@gmail.com\", \"olim\":\"olim@mail.ru\", \"maryam\":\"mary33@gmail.com\",\"javohir\":\"javohir445@gmail.com\"}\n",
    "\n",
    "data = {\n",
    "    'username':usernames,\n",
    "    'email':emails\n",
    "}\n",
    "df = pd.DataFrame(data)"
   ]
  },
  {
   "cell_type": "code",
   "execution_count": 177,
   "id": "f62f8d31-c9f2-4540-8fd9-30301d921ba2",
   "metadata": {},
   "outputs": [
    {
     "data": {
      "text/html": [
       "<div>\n",
       "<style scoped>\n",
       "    .dataframe tbody tr th:only-of-type {\n",
       "        vertical-align: middle;\n",
       "    }\n",
       "\n",
       "    .dataframe tbody tr th {\n",
       "        vertical-align: top;\n",
       "    }\n",
       "\n",
       "    .dataframe thead th {\n",
       "        text-align: right;\n",
       "    }\n",
       "</style>\n",
       "<table border=\"1\" class=\"dataframe\">\n",
       "  <thead>\n",
       "    <tr style=\"text-align: right;\">\n",
       "      <th></th>\n",
       "      <th>username</th>\n",
       "      <th>email</th>\n",
       "    </tr>\n",
       "  </thead>\n",
       "  <tbody>\n",
       "    <tr>\n",
       "      <th>anvar</th>\n",
       "      <td>anvarbek223</td>\n",
       "      <td>anvar@gmail.com</td>\n",
       "    </tr>\n",
       "    <tr>\n",
       "      <th>olim</th>\n",
       "      <td>olimtoy</td>\n",
       "      <td>olim@mail.ru</td>\n",
       "    </tr>\n",
       "    <tr>\n",
       "      <th>maryam</th>\n",
       "      <td>mary334455</td>\n",
       "      <td>mary33@gmail.com</td>\n",
       "    </tr>\n",
       "    <tr>\n",
       "      <th>javohir</th>\n",
       "      <td>javohir445</td>\n",
       "      <td>javohir445@gmail.com</td>\n",
       "    </tr>\n",
       "  </tbody>\n",
       "</table>\n",
       "</div>"
      ],
      "text/plain": [
       "            username                 email\n",
       "anvar    anvarbek223       anvar@gmail.com\n",
       "olim         olimtoy          olim@mail.ru\n",
       "maryam    mary334455      mary33@gmail.com\n",
       "javohir   javohir445  javohir445@gmail.com"
      ]
     },
     "execution_count": 177,
     "metadata": {},
     "output_type": "execute_result"
    }
   ],
   "source": [
    "df"
   ]
  },
  {
   "cell_type": "code",
   "execution_count": 196,
   "id": "c9dfe26d-b2fc-4ed4-8438-1d701881b476",
   "metadata": {},
   "outputs": [],
   "source": [
    "data2 = {\n",
    "    'username':{\"olim\":\"olimjon21\", \"maryam\":\"maryam2020\"},\n",
    "    'email':{\"olim\":\"olimjon21@mail.ru\", \"maryam\":\"maryam20@gmail.com\"}\n",
    "}"
   ]
  },
  {
   "cell_type": "code",
   "execution_count": 197,
   "id": "9918333a-d81e-454f-bf3a-e936ca846b27",
   "metadata": {},
   "outputs": [],
   "source": [
    "df2 = df.append(pd.DataFrame(data2))"
   ]
  },
  {
   "cell_type": "code",
   "execution_count": 198,
   "id": "504331ed-e992-4c2a-b7cd-8914a9984193",
   "metadata": {},
   "outputs": [
    {
     "data": {
      "text/html": [
       "<div>\n",
       "<style scoped>\n",
       "    .dataframe tbody tr th:only-of-type {\n",
       "        vertical-align: middle;\n",
       "    }\n",
       "\n",
       "    .dataframe tbody tr th {\n",
       "        vertical-align: top;\n",
       "    }\n",
       "\n",
       "    .dataframe thead th {\n",
       "        text-align: right;\n",
       "    }\n",
       "</style>\n",
       "<table border=\"1\" class=\"dataframe\">\n",
       "  <thead>\n",
       "    <tr style=\"text-align: right;\">\n",
       "      <th></th>\n",
       "      <th>username</th>\n",
       "      <th>email</th>\n",
       "    </tr>\n",
       "  </thead>\n",
       "  <tbody>\n",
       "    <tr>\n",
       "      <th>anvar</th>\n",
       "      <td>anvarbek223</td>\n",
       "      <td>anvar@gmail.com</td>\n",
       "    </tr>\n",
       "    <tr>\n",
       "      <th>olim</th>\n",
       "      <td>olimtoy</td>\n",
       "      <td>olim@mail.ru</td>\n",
       "    </tr>\n",
       "    <tr>\n",
       "      <th>maryam</th>\n",
       "      <td>mary334455</td>\n",
       "      <td>mary33@gmail.com</td>\n",
       "    </tr>\n",
       "    <tr>\n",
       "      <th>javohir</th>\n",
       "      <td>javohir445</td>\n",
       "      <td>javohir445@gmail.com</td>\n",
       "    </tr>\n",
       "    <tr>\n",
       "      <th>olim</th>\n",
       "      <td>olimjon21</td>\n",
       "      <td>olimjon21@mail.ru</td>\n",
       "    </tr>\n",
       "    <tr>\n",
       "      <th>maryam</th>\n",
       "      <td>maryam2020</td>\n",
       "      <td>maryam20@gmail.com</td>\n",
       "    </tr>\n",
       "  </tbody>\n",
       "</table>\n",
       "</div>"
      ],
      "text/plain": [
       "            username                 email\n",
       "anvar    anvarbek223       anvar@gmail.com\n",
       "olim         olimtoy          olim@mail.ru\n",
       "maryam    mary334455      mary33@gmail.com\n",
       "javohir   javohir445  javohir445@gmail.com\n",
       "olim       olimjon21     olimjon21@mail.ru\n",
       "maryam    maryam2020    maryam20@gmail.com"
      ]
     },
     "execution_count": 198,
     "metadata": {},
     "output_type": "execute_result"
    }
   ],
   "source": [
    "df2"
   ]
  },
  {
   "cell_type": "code",
   "execution_count": 199,
   "id": "7c2568b1-e724-47d2-9adb-5cdc5f31aada",
   "metadata": {},
   "outputs": [
    {
     "data": {
      "text/plain": [
       "Index(['anvar', 'olim', 'maryam', 'javohir', 'olim', 'maryam'], dtype='object')"
      ]
     },
     "execution_count": 199,
     "metadata": {},
     "output_type": "execute_result"
    }
   ],
   "source": [
    "df2.index"
   ]
  },
  {
   "cell_type": "markdown",
   "id": "5c78bb83-3ef0-4434-a03c-7b09da3b45f9",
   "metadata": {},
   "source": [
    "### Bazi `Index` metodlar va parametrlar"
   ]
  },
  {
   "cell_type": "code",
   "execution_count": 200,
   "id": "2a52b101-91d8-42aa-a79d-5e830b23c6a8",
   "metadata": {},
   "outputs": [
    {
     "data": {
      "text/plain": [
       "Index(['olim', 'nafisa', 'hamida'], dtype='object')"
      ]
     },
     "execution_count": 200,
     "metadata": {},
     "output_type": "execute_result"
    }
   ],
   "source": [
    "newind = pd.Index(['olim','nafisa','hamida']) # yangi indeks yaratamiz\n",
    "newind"
   ]
  },
  {
   "cell_type": "markdown",
   "id": "f286023e-119c-4994-8477-c107a3a8b1bb",
   "metadata": {},
   "source": [
    "**Indeks boshqa indeks tarkbidia ekanini tekshirish**"
   ]
  },
  {
   "cell_type": "code",
   "execution_count": 201,
   "id": "84fdb969-0e90-4e33-b54a-2bce7893226c",
   "metadata": {},
   "outputs": [
    {
     "data": {
      "text/plain": [
       "array([ True, False, False])"
      ]
     },
     "execution_count": 201,
     "metadata": {},
     "output_type": "execute_result"
    }
   ],
   "source": [
    "newind.isin(df2.index) # newind df2.index tarkibida borligni tekshirish"
   ]
  },
  {
   "cell_type": "markdown",
   "id": "5ad96ac5-9b09-488e-a2f0-49dd10bef172",
   "metadata": {},
   "source": [
    "**Indeksning boshqa indeksdan farqini tekshirish**"
   ]
  },
  {
   "cell_type": "code",
   "execution_count": 202,
   "id": "dd8865c7-7ed4-4193-bd2c-d7814af08c82",
   "metadata": {},
   "outputs": [
    {
     "data": {
      "text/plain": [
       "Index(['anvar', 'javohir', 'maryam'], dtype='object')"
      ]
     },
     "execution_count": 202,
     "metadata": {},
     "output_type": "execute_result"
    }
   ],
   "source": [
    "df2.index.difference(newind) # df2"
   ]
  },
  {
   "cell_type": "code",
   "execution_count": 203,
   "id": "13d0c65f-c555-4e1e-b686-e1bba95a8a09",
   "metadata": {},
   "outputs": [
    {
     "data": {
      "text/plain": [
       "Index(['hamida', 'nafisa'], dtype='object')"
      ]
     },
     "execution_count": 203,
     "metadata": {},
     "output_type": "execute_result"
    }
   ],
   "source": [
    "newind.difference(df2.index)"
   ]
  },
  {
   "cell_type": "markdown",
   "id": "3d728c1a-d1d0-449b-a415-12a97a45f4e3",
   "metadata": {},
   "source": [
    "**Ikki indeks to'plami**"
   ]
  },
  {
   "cell_type": "code",
   "execution_count": 230,
   "id": "08bcd095-54e0-4b39-9955-fd6000b85a88",
   "metadata": {},
   "outputs": [
    {
     "data": {
      "text/plain": [
       "Index(['anvar', 'hamida', 'javohir', 'maryam', 'maryam', 'nafisa', 'olim',\n",
       "       'olim'],\n",
       "      dtype='object')"
      ]
     },
     "execution_count": 230,
     "metadata": {},
     "output_type": "execute_result"
    }
   ],
   "source": [
    "df2.index.union(newind)"
   ]
  },
  {
   "cell_type": "markdown",
   "id": "caee5093-413e-4996-8bd1-bf3e5bf9bb7e",
   "metadata": {},
   "source": [
    "**`.delete()` va `.drop()`**"
   ]
  },
  {
   "cell_type": "code",
   "execution_count": 205,
   "id": "04ede1e0-f7a8-422a-9338-08b22d3b95bc",
   "metadata": {},
   "outputs": [
    {
     "data": {
      "text/plain": [
       "Index(['olim', 'maryam', 'javohir', 'olim', 'maryam'], dtype='object')"
      ]
     },
     "execution_count": 205,
     "metadata": {},
     "output_type": "execute_result"
    }
   ],
   "source": [
    "df2.index.delete(0)"
   ]
  },
  {
   "cell_type": "code",
   "execution_count": 208,
   "id": "e8cca32e-9268-45de-9726-0e5a121a3ffa",
   "metadata": {},
   "outputs": [
    {
     "data": {
      "text/plain": [
       "Index(['anvar', 'maryam', 'javohir', 'maryam'], dtype='object')"
      ]
     },
     "execution_count": 208,
     "metadata": {},
     "output_type": "execute_result"
    }
   ],
   "source": [
    "df2.index.drop('olim')"
   ]
  },
  {
   "cell_type": "code",
   "execution_count": 209,
   "id": "fe8ba69a-e418-4b32-ad93-da7cdd749717",
   "metadata": {},
   "outputs": [
    {
     "data": {
      "text/plain": [
       "Index(['anvar', 'olim', 'maryam', 'javohir', 'olim', 'maryam'], dtype='object')"
      ]
     },
     "execution_count": 209,
     "metadata": {},
     "output_type": "execute_result"
    }
   ],
   "source": [
    "df2.index"
   ]
  },
  {
   "cell_type": "markdown",
   "id": "84102ae3-e68d-49f5-9dd7-0138eaee5d35",
   "metadata": {},
   "source": [
    "**`.insert()`**"
   ]
  },
  {
   "cell_type": "code",
   "execution_count": 219,
   "id": "5229c844-c01c-4b9a-bed3-699c8c0200c9",
   "metadata": {},
   "outputs": [
    {
     "data": {
      "text/plain": [
       "Index(['anvar', 'olim', 'maryam', 'javohir', 'olim', 'masha', 'maryam'], dtype='object')"
      ]
     },
     "execution_count": 219,
     "metadata": {},
     "output_type": "execute_result"
    }
   ],
   "source": [
    "df2.index.insert(5,'masha') # 5-o'ringa mashani qo'shamiz"
   ]
  },
  {
   "cell_type": "markdown",
   "id": "faca6b1f-15ff-4ba8-9b64-01aac0939538",
   "metadata": {},
   "source": [
    "`.is_monotonic` va `.is_unique`"
   ]
  },
  {
   "cell_type": "code",
   "execution_count": 220,
   "id": "6c391690-e387-4cff-b509-12a3b8df7076",
   "metadata": {},
   "outputs": [
    {
     "data": {
      "text/plain": [
       "False"
      ]
     },
     "execution_count": 220,
     "metadata": {},
     "output_type": "execute_result"
    }
   ],
   "source": [
    "df2.index.is_monotonic"
   ]
  },
  {
   "cell_type": "code",
   "execution_count": 222,
   "id": "4b0fdb63-b703-42cd-8eca-0c90bbbdd7cc",
   "metadata": {},
   "outputs": [
    {
     "data": {
      "text/plain": [
       "False"
      ]
     },
     "execution_count": 222,
     "metadata": {},
     "output_type": "execute_result"
    }
   ],
   "source": [
    "df2.index.is_unique"
   ]
  },
  {
   "cell_type": "code",
   "execution_count": 223,
   "id": "2ab0fbf3-fd0c-4c86-bed9-780ccda7ca2a",
   "metadata": {},
   "outputs": [
    {
     "data": {
      "text/plain": [
       "Index(['olim', 'nafisa', 'hamida'], dtype='object')"
      ]
     },
     "execution_count": 223,
     "metadata": {},
     "output_type": "execute_result"
    }
   ],
   "source": [
    "newind"
   ]
  },
  {
   "cell_type": "code",
   "execution_count": 224,
   "id": "254bac8d-f9c7-4a49-81c3-94e5ea40a3fb",
   "metadata": {},
   "outputs": [
    {
     "data": {
      "text/plain": [
       "True"
      ]
     },
     "execution_count": 224,
     "metadata": {},
     "output_type": "execute_result"
    }
   ],
   "source": [
    "newind.is_unique"
   ]
  },
  {
   "cell_type": "markdown",
   "id": "b9dc2db2-538c-4023-89db-8b8dcdd11c76",
   "metadata": {},
   "source": [
    "**`.unique()`**"
   ]
  },
  {
   "cell_type": "code",
   "execution_count": 229,
   "id": "e037c66d-caff-4357-93f3-ad3d149613e0",
   "metadata": {},
   "outputs": [
    {
     "data": {
      "text/plain": [
       "Index(['anvar', 'olim', 'maryam', 'javohir'], dtype='object')"
      ]
     },
     "execution_count": 229,
     "metadata": {},
     "output_type": "execute_result"
    }
   ],
   "source": [
    "df2.index.unique() # noyob (takrorlanmas) elementlar"
   ]
  }
 ],
 "metadata": {
  "kernelspec": {
   "display_name": "Python 3",
   "language": "python",
   "name": "python3"
  },
  "language_info": {
   "codemirror_mode": {
    "name": "ipython",
    "version": 3
   },
   "file_extension": ".py",
   "mimetype": "text/x-python",
   "name": "python",
   "nbconvert_exporter": "python",
   "pygments_lexer": "ipython3",
   "version": "3.8.8"
  }
 },
 "nbformat": 4,
 "nbformat_minor": 5
}
